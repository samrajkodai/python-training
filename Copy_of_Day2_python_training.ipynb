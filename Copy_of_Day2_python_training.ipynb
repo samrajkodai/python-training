{
  "nbformat": 4,
  "nbformat_minor": 0,
  "metadata": {
    "colab": {
      "name": "Copy of Day2 python training.ipynb",
      "provenance": [],
      "collapsed_sections": []
    },
    "kernelspec": {
      "name": "python3",
      "display_name": "Python 3"
    },
    "language_info": {
      "name": "python"
    }
  },
  "cells": [
    {
      "cell_type": "markdown",
      "metadata": {
        "id": "YKOmbjxg4KdL"
      },
      "source": [
        "Example\n",
        "\n",
        "1.column 2, row 3 would be entered as:\n",
        "\n",
        "['⬜️', '⬜️', '⬜️']\n",
        "\n",
        "['⬜️', '⬜️', '⬜️']\n",
        "\n",
        "['⬜️', 'X', '⬜️']"
      ]
    },
    {
      "cell_type": "code",
      "metadata": {
        "colab": {
          "base_uri": "https://localhost:8080/"
        },
        "id": "pkamqCay3834",
        "outputId": "27f75a6d-eef9-410d-e0d0-ed3d4dd00884"
      },
      "source": [
        "row1 = [\"⬜️\",\"⬜️\",\"⬜️\"]\n",
        "row2 = [\"⬜️\",\"⬜️\",\"⬜️\"]\n",
        "row3 = [\"⬜️\",\"⬜️\",\"⬜️\"]\n",
        "map = [row1, row2, row3]\n",
        "print(f\"{row1}\\n{row2}\\n{row3}\")\n",
        "position = input(\"Where do you want to put the treasure? \")\n",
        "\n",
        "column=int(position[0])\n",
        "row=int(position[1])\n",
        "map[row-1][column-1]='X'\n",
        "\n",
        "print(f\"{row1}\\n{row2}\\n{row3}\")"
      ],
      "execution_count": null,
      "outputs": [
        {
          "output_type": "stream",
          "name": "stdout",
          "text": [
            "['⬜️', '⬜️', '⬜️']\n",
            "['⬜️', '⬜️', '⬜️']\n",
            "['⬜️', '⬜️', '⬜️']\n",
            "Where do you want to put the treasure? 23\n",
            "['⬜️', '⬜️', '⬜️']\n",
            "['⬜️', '⬜️', '⬜️']\n",
            "['⬜️', 'X', '⬜️']\n"
          ]
        }
      ]
    },
    {
      "cell_type": "markdown",
      "metadata": {
        "id": "zJs4nYJW7J3t"
      },
      "source": [
        "## Assignment\n",
        "\n",
        "Make a rock, paper, scissors game.\n",
        "\n",
        "Inside the main.py file, you'll find the ASCII art for the hand signals already saved to a corresponding variable: rock, paper, and scissors. This will make it easy to print them out to the console.\n",
        "\n",
        "Start the game by asking the player:\n",
        "\n",
        "\"What do you choose? Type 0 for Rock, 1 for Paper or 2 for Scissors.\"\n",
        "\n",
        "From there you will need to figure out:\n",
        "\n",
        "    How you will store the user's input.\n",
        "    How you will generate a random choice for the computer.\n",
        "    How you will compare the user's and the computer's choice to determine the winner (or a draw).\n",
        "    And also how you will give feedback to the player. "
      ]
    },
    {
      "cell_type": "code",
      "metadata": {
        "colab": {
          "base_uri": "https://localhost:8080/"
        },
        "id": "U3c_G4g26MqA",
        "outputId": "af90aa56-4c0a-4be4-b7f6-793fc1463b7b"
      },
      "source": [
        "import random\n",
        "\n",
        "rock = '''\n",
        "    _______\n",
        "---'   ____)\n",
        "      (_____)\n",
        "      (_____)\n",
        "      (____)\n",
        "---.__(___)\n",
        "'''\n",
        "\n",
        "paper = '''\n",
        "    _______\n",
        "---'   ____)____\n",
        "          ______)\n",
        "          _______)\n",
        "         _______)\n",
        "---.__________)\n",
        "'''\n",
        "\n",
        "scissors = '''\n",
        "    _______\n",
        "---'   ____)____\n",
        "          ______)\n",
        "       __________)\n",
        "      (____)\n",
        "---.__(___)\n",
        "'''\n",
        "\n",
        "game_images = [rock, paper, scissors]\n",
        "\n",
        "user_choice = int(input(\"What do you choose? Type 0 for Rock, 1 for Paper or 2 for Scissors.\\n\"))\n",
        "print(game_images[user_choice])\n",
        "\n",
        "computer_choice = random.randint(0, 2)\n",
        "print(\"Computer chose:\")\n",
        "print(game_images[computer_choice])\n",
        "\n",
        "if user_choice >= 3 or user_choice < 0: \n",
        "  print(\"You typed an invalid number, you lose!\") \n",
        "elif user_choice == 0 and computer_choice == 2:\n",
        "  print(\"You win!\")\n",
        "elif computer_choice == 0 and user_choice == 2:\n",
        "  print(\"You lose\")\n",
        "elif computer_choice > user_choice:\n",
        "  print(\"You lose\")\n",
        "elif user_choice > computer_choice:\n",
        "  print(\"You win!\")\n",
        "elif computer_choice == user_choice:\n",
        "  print(\"It's a draw\")"
      ],
      "execution_count": null,
      "outputs": [
        {
          "output_type": "stream",
          "name": "stdout",
          "text": [
            "What do you choose? Type 0 for Rock, 1 for Paper or 2 for Scissors.\n",
            "0\n",
            "\n",
            "    _______\n",
            "---'   ____)\n",
            "      (_____)\n",
            "      (_____)\n",
            "      (____)\n",
            "---.__(___)\n",
            "\n",
            "Computer chose:\n",
            "\n",
            "    _______\n",
            "---'   ____)____\n",
            "          ______)\n",
            "       __________)\n",
            "      (____)\n",
            "---.__(___)\n",
            "\n",
            "You win!\n"
          ]
        }
      ]
    },
    {
      "cell_type": "markdown",
      "metadata": {
        "id": "DJGunG0A9W5y"
      },
      "source": [
        "## Loops\n"
      ]
    },
    {
      "cell_type": "code",
      "metadata": {
        "colab": {
          "base_uri": "https://localhost:8080/"
        },
        "id": "VQVbf7pO6MnG",
        "outputId": "eba92522-abba-44d5-87e6-b393925d841f"
      },
      "source": [
        "names=[\"sam\",\"arun\",\"karthi\",\"vijay\"]\n",
        "for i in names:\n",
        "  print(i)"
      ],
      "execution_count": null,
      "outputs": [
        {
          "output_type": "stream",
          "name": "stdout",
          "text": [
            "sam\n",
            "arun\n",
            "karthi\n",
            "vijay\n"
          ]
        }
      ]
    },
    {
      "cell_type": "code",
      "metadata": {
        "id": "JkzHInWP4V4a"
      },
      "source": [
        "output=[i for i in names if \"sam\" in names]"
      ],
      "execution_count": null,
      "outputs": []
    },
    {
      "cell_type": "code",
      "metadata": {
        "colab": {
          "base_uri": "https://localhost:8080/"
        },
        "id": "QNp1equP5NeW",
        "outputId": "e80d874c-2097-46e6-abc4-723bcc90a4c8"
      },
      "source": [
        "output"
      ],
      "execution_count": null,
      "outputs": [
        {
          "output_type": "execute_result",
          "data": {
            "text/plain": [
              "['sam', 'arun', 'karthi', 'vijay']"
            ]
          },
          "metadata": {},
          "execution_count": 5
        }
      ]
    },
    {
      "cell_type": "markdown",
      "metadata": {
        "id": "gEiWM6meBF9T"
      },
      "source": [
        "### 1.write a program that calculates the average student height from a List of\n",
        "heights. "
      ]
    },
    {
      "cell_type": "code",
      "metadata": {
        "colab": {
          "base_uri": "https://localhost:8080/"
        },
        "id": "nBSZgQzs-d-m",
        "outputId": "6c5c01c9-9abf-49fc-bc28-582b7a4bacd8"
      },
      "source": [
        "import numpy as np\n",
        "\n",
        "n=input(\"Enter the student heights: \")\n",
        "n=n.split(\",\")\n",
        "n=[int(i) for i in n]\n",
        "round(np.average(n))"
      ],
      "execution_count": null,
      "outputs": [
        {
          "name": "stdout",
          "output_type": "stream",
          "text": [
            "Enter the student heights: 123,124,136,145,110,100\n"
          ]
        },
        {
          "output_type": "execute_result",
          "data": {
            "text/plain": [
              "123"
            ]
          },
          "metadata": {},
          "execution_count": 6
        }
      ]
    },
    {
      "cell_type": "markdown",
      "metadata": {
        "id": "DiWm9pg1Bvbl"
      },
      "source": [
        "### 2. write a program that calculates the highest score from a List of scores. "
      ]
    },
    {
      "cell_type": "code",
      "metadata": {
        "colab": {
          "base_uri": "https://localhost:8080/"
        },
        "id": "d0BdeMdbBvS7",
        "outputId": "53d7a8ec-782c-405f-8232-c33e7975ac3f"
      },
      "source": [
        "scores=input(\"Enter a scores: \")\n",
        "scores=scores.split(\",\")\n",
        "\n",
        "output=[int(i) for i in scores if i==max(scores)]\n",
        "\n",
        "print(output)\n"
      ],
      "execution_count": null,
      "outputs": [
        {
          "output_type": "stream",
          "name": "stdout",
          "text": [
            "Enter a scores: 99,45,78,87,60\n",
            "[99]\n"
          ]
        }
      ]
    },
    {
      "cell_type": "markdown",
      "metadata": {
        "id": "xE1sMphFEy8W"
      },
      "source": [
        "## for loops and range"
      ]
    },
    {
      "cell_type": "code",
      "metadata": {
        "colab": {
          "base_uri": "https://localhost:8080/"
        },
        "id": "TzL-0P3TEPWh",
        "outputId": "26b83692-1511-47b7-bce1-bcef58a72a5e"
      },
      "source": [
        "for i in range(0,5):\n",
        "  print(i)"
      ],
      "execution_count": null,
      "outputs": [
        {
          "output_type": "stream",
          "name": "stdout",
          "text": [
            "0\n",
            "1\n",
            "2\n",
            "3\n",
            "4\n"
          ]
        }
      ]
    },
    {
      "cell_type": "markdown",
      "metadata": {
        "id": "VXP-TRT4Gcdv"
      },
      "source": [
        "1.write a program that calculates the sum of all the even numbers from 1 to 100. Thus, the first even number would be 2 and the last one is 100:"
      ]
    },
    {
      "cell_type": "code",
      "metadata": {
        "colab": {
          "base_uri": "https://localhost:8080/"
        },
        "id": "W3HkvYuoE3Kb",
        "outputId": "c7958405-d84c-4a2f-eaf3-cbf0f573b917"
      },
      "source": [
        "sum=0\n",
        "for i in range(0,101):\n",
        "  if i%2==0:\n",
        "    sum+=i\n",
        "print(f\"the sum of total even numbers is {sum}\")"
      ],
      "execution_count": null,
      "outputs": [
        {
          "output_type": "stream",
          "name": "stdout",
          "text": [
            "the sum of total even numbers is 2550\n"
          ]
        }
      ]
    },
    {
      "cell_type": "markdown",
      "metadata": {
        "id": "29nq-gWwHfHs"
      },
      "source": [
        "2.write a program that automatically prints the solution to the FizzBuzz game."
      ]
    },
    {
      "cell_type": "code",
      "metadata": {
        "colab": {
          "base_uri": "https://localhost:8080/"
        },
        "id": "DGa0_tBjG3ku",
        "outputId": "5cc64529-48ec-428e-d5a8-5a665a6a9316"
      },
      "source": [
        "for i in range(0,100):\n",
        "  if i%3==0 and i%5==0:\n",
        "    i='FizzBuzz'\n",
        "  elif i%3==0:\n",
        "    i='Fizz'\n",
        "  elif i%5==0:\n",
        "    i='Buzz'\n",
        "  else:\n",
        "    i=i\n",
        "  print(i)"
      ],
      "execution_count": null,
      "outputs": [
        {
          "output_type": "stream",
          "name": "stdout",
          "text": [
            "FizzBuzz\n",
            "1\n",
            "2\n",
            "Fizz\n",
            "4\n",
            "Buzz\n",
            "Fizz\n",
            "7\n",
            "8\n",
            "Fizz\n",
            "Buzz\n",
            "11\n",
            "Fizz\n",
            "13\n",
            "14\n",
            "FizzBuzz\n",
            "16\n",
            "17\n",
            "Fizz\n",
            "19\n",
            "Buzz\n",
            "Fizz\n",
            "22\n",
            "23\n",
            "Fizz\n",
            "Buzz\n",
            "26\n",
            "Fizz\n",
            "28\n",
            "29\n",
            "FizzBuzz\n",
            "31\n",
            "32\n",
            "Fizz\n",
            "34\n",
            "Buzz\n",
            "Fizz\n",
            "37\n",
            "38\n",
            "Fizz\n",
            "Buzz\n",
            "41\n",
            "Fizz\n",
            "43\n",
            "44\n",
            "FizzBuzz\n",
            "46\n",
            "47\n",
            "Fizz\n",
            "49\n",
            "Buzz\n",
            "Fizz\n",
            "52\n",
            "53\n",
            "Fizz\n",
            "Buzz\n",
            "56\n",
            "Fizz\n",
            "58\n",
            "59\n",
            "FizzBuzz\n",
            "61\n",
            "62\n",
            "Fizz\n",
            "64\n",
            "Buzz\n",
            "Fizz\n",
            "67\n",
            "68\n",
            "Fizz\n",
            "Buzz\n",
            "71\n",
            "Fizz\n",
            "73\n",
            "74\n",
            "FizzBuzz\n",
            "76\n",
            "77\n",
            "Fizz\n",
            "79\n",
            "Buzz\n",
            "Fizz\n",
            "82\n",
            "83\n",
            "Fizz\n",
            "Buzz\n",
            "86\n",
            "Fizz\n",
            "88\n",
            "89\n",
            "FizzBuzz\n",
            "91\n",
            "92\n",
            "Fizz\n",
            "94\n",
            "Buzz\n",
            "Fizz\n",
            "97\n",
            "98\n",
            "Fizz\n"
          ]
        }
      ]
    },
    {
      "cell_type": "markdown",
      "metadata": {
        "id": "Tr8fK2V1I6__"
      },
      "source": [
        "## Password generator"
      ]
    },
    {
      "cell_type": "code",
      "metadata": {
        "colab": {
          "base_uri": "https://localhost:8080/"
        },
        "id": "TQbrVGS3I6z6",
        "outputId": "aea23781-f075-4368-fb5d-3d2fb51eeb25"
      },
      "source": [
        "import random\n",
        "letters = ['a', 'b', 'c', 'd', 'e', 'f', 'g', 'h', 'i', 'j', 'k', 'l', 'm', 'n', 'o', 'p', 'q', 'r', 's', 't', 'u', 'v', 'w', 'x', 'y', 'z', 'A', 'B', 'C', 'D', 'E', 'F', 'G', 'H', 'I', 'J', 'K', 'L', 'M', 'N', 'O', 'P', 'Q', 'R', 'S', 'T', 'U', 'V', 'W', 'X', 'Y', 'Z']\n",
        "numbers = ['0', '1', '2', '3', '4', '5', '6', '7', '8', '9']\n",
        "symbols = ['!', '#', '$', '%', '&', '(', ')', '*', '+']\n",
        "\n",
        "print(\"Welcome to the PyPassword Generator!\")\n",
        "nr_letters= int(input(\"How many letters would you like in your password?\\n\")) \n",
        "nr_symbols = int(input(f\"How many symbols would you like?\\n\"))\n",
        "nr_numbers = int(input(f\"How many numbers would you like?\\n\"))\n",
        "\n",
        "password_list = []\n",
        "\n",
        "for char in range(1, nr_letters + 1):\n",
        "  password_list.append(random.choice(letters))\n",
        "\n",
        "for char in range(1, nr_symbols + 1):\n",
        "  password_list += random.choice(symbols)\n",
        "\n",
        "for char in range(1, nr_numbers + 1):\n",
        "  password_list += random.choice(numbers)\n",
        "\n",
        "print(password_list)\n",
        "random.shuffle(password_list)\n",
        "print(password_list)\n",
        "\n",
        "password = \"\"\n",
        "for char in password_list:\n",
        "  password += char\n",
        "\n",
        "print(f\"Your password is: {password}\")"
      ],
      "execution_count": null,
      "outputs": [
        {
          "output_type": "stream",
          "name": "stdout",
          "text": [
            "Welcome to the PyPassword Generator!\n",
            "How many letters would you like in your password?\n",
            "5\n",
            "How many symbols would you like?\n",
            "3\n",
            "How many numbers would you like?\n",
            "2\n",
            "['J', 'm', 'y', 'U', 'Q', '!', ')', '#', '4', '0']\n",
            "['0', '4', 'U', '#', 'y', 'J', 'Q', '!', ')', 'm']\n",
            "Your password is: 04U#yJQ!)m\n"
          ]
        }
      ]
    },
    {
      "cell_type": "markdown",
      "metadata": {
        "id": "s_kPQz9sR7N_"
      },
      "source": [
        "### While Loops"
      ]
    },
    {
      "cell_type": "code",
      "metadata": {
        "colab": {
          "base_uri": "https://localhost:8080/"
        },
        "id": "b7NC6ybIR9uU",
        "outputId": "f5a33e3c-ec91-4220-c961-d4213c2a7543"
      },
      "source": [
        "i=10\n",
        "\n",
        "while i>0:\n",
        "  i-=1\n",
        "  print(\"hello\")"
      ],
      "execution_count": null,
      "outputs": [
        {
          "output_type": "stream",
          "name": "stdout",
          "text": [
            "hello\n",
            "hello\n",
            "hello\n",
            "hello\n",
            "hello\n",
            "hello\n",
            "hello\n",
            "hello\n",
            "hello\n",
            "hello\n"
          ]
        }
      ]
    },
    {
      "cell_type": "markdown",
      "metadata": {
        "id": "j2X09rDhQIBK"
      },
      "source": [
        "## Functions"
      ]
    },
    {
      "cell_type": "code",
      "metadata": {
        "colab": {
          "base_uri": "https://localhost:8080/"
        },
        "id": "F5MuwOQ5KWHz",
        "outputId": "5e50292e-3086-4148-e025-f92f71bc1439"
      },
      "source": [
        "def output(name):\n",
        "  print(f\"welcome to python {name}\")\n",
        "\n",
        "output(\"karthick\")\n",
        "\n",
        "#parameter is name\n",
        "#argument is karthick"
      ],
      "execution_count": null,
      "outputs": [
        {
          "output_type": "stream",
          "name": "stdout",
          "text": [
            "welcome to python karthick\n"
          ]
        }
      ]
    },
    {
      "cell_type": "markdown",
      "metadata": {
        "id": "BXjQ5mTTTMqF"
      },
      "source": [
        "Lambda is a anonymous function that is defined without the name."
      ]
    },
    {
      "cell_type": "code",
      "metadata": {
        "colab": {
          "base_uri": "https://localhost:8080/"
        },
        "id": "Oy8VI9FoQYL5",
        "outputId": "fe150c4e-1946-4de9-aafd-078745159c06"
      },
      "source": [
        "x=lambda x:x*5\n",
        "x(10)"
      ],
      "execution_count": null,
      "outputs": [
        {
          "output_type": "execute_result",
          "data": {
            "text/plain": [
              "50"
            ]
          },
          "metadata": {},
          "execution_count": 14
        }
      ]
    },
    {
      "cell_type": "code",
      "metadata": {
        "colab": {
          "base_uri": "https://localhost:8080/"
        },
        "id": "THzK5KK6Tjme",
        "outputId": "fb04e619-7afd-4389-ed7b-f52f1f67657b"
      },
      "source": [
        "#filter\n",
        "x=[1,2,3,4,6,4,3,2]\n",
        "x=list(filter(lambda x:(x%2==0),x))\n",
        "print(x)"
      ],
      "execution_count": null,
      "outputs": [
        {
          "output_type": "stream",
          "name": "stdout",
          "text": [
            "[2, 4, 6, 4, 2]\n"
          ]
        }
      ]
    },
    {
      "cell_type": "markdown",
      "metadata": {
        "id": "hlPPT6UAUd1w"
      },
      "source": [
        "Global,Local and NonLocal Variables\n",
        "\n",
        "      Global-Function outside\n",
        "      Local-inside a Function\n",
        "      Non Local-Nested function"
      ]
    },
    {
      "cell_type": "code",
      "metadata": {
        "colab": {
          "base_uri": "https://localhost:8080/"
        },
        "id": "HHTYPEBgUG7Y",
        "outputId": "477c03ba-7ecb-401d-8384-2833bbfe96aa"
      },
      "source": [
        "#global variable\n",
        "x=10\n",
        "\n",
        "def out():\n",
        "  #local variable\n",
        "  x=5\n",
        "  print(x)\n",
        "\n",
        "out()\n",
        "print(x)\n",
        "\n"
      ],
      "execution_count": null,
      "outputs": [
        {
          "output_type": "stream",
          "name": "stdout",
          "text": [
            "5\n",
            "10\n"
          ]
        }
      ]
    },
    {
      "cell_type": "markdown",
      "metadata": {
        "id": "pZeAtE-Tc77b"
      },
      "source": [
        "### function with positional and keyword argument"
      ]
    },
    {
      "cell_type": "code",
      "metadata": {
        "colab": {
          "base_uri": "https://localhost:8080/"
        },
        "id": "0nk2LPEScTjP",
        "outputId": "79428733-d38a-4c8e-941e-a03aa7fd6c35"
      },
      "source": [
        "#positional argument\n",
        "\n",
        "def my_function(name,age):\n",
        "  print(f\"your name is {name} and your age is {age}\")\n",
        "my_function(34,\"arun\")"
      ],
      "execution_count": null,
      "outputs": [
        {
          "output_type": "stream",
          "name": "stdout",
          "text": [
            "your name is 34 and your age is arun\n"
          ]
        }
      ]
    },
    {
      "cell_type": "code",
      "metadata": {
        "colab": {
          "base_uri": "https://localhost:8080/"
        },
        "id": "OPb52zaZcTge",
        "outputId": "041d6c3f-a543-47dd-ca93-c66069279f40"
      },
      "source": [
        "#keyword argument\n",
        "def my_function(name,age):\n",
        "  print(f\"your name is {name} and your age is {age}\")\n",
        "my_function(age=34,name=\"arun\")"
      ],
      "execution_count": null,
      "outputs": [
        {
          "output_type": "stream",
          "name": "stdout",
          "text": [
            "your name is arun and your age is 34\n"
          ]
        }
      ]
    },
    {
      "cell_type": "markdown",
      "metadata": {
        "id": "M2o4aNpDfoBG"
      },
      "source": [
        "You are painting a wall. The instructions on the paint can says that 1 can of paint can cover 5 square meters of wall. Given a random height and width of wall, calculate how many cans of paint you'll need to buy.\n",
        "\n",
        "number of cans = (wall height ✖️ wall width) ÷ coverage per can.\n",
        "\n",
        "e.g. Height = 2, Width = 4, Coverage = 5\n",
        "\n",
        "number of cans = (2 ✖️ 4) ÷ 5 "
      ]
    },
    {
      "cell_type": "code",
      "metadata": {
        "colab": {
          "base_uri": "https://localhost:8080/"
        },
        "id": "3LvgJZbDcTdQ",
        "outputId": "c83a1d49-033d-413c-a70d-99eaaf8d7bf3"
      },
      "source": [
        "def paint(width,height,cover):\n",
        "  no_of_cans=(width*height)/cover\n",
        "  print(f\"You'll need {round(no_of_cans)} cans of paint.\")\n",
        "\n",
        "test_h = int(input(\"Height of wall: \"))\n",
        "test_w = int(input(\"Width of wall: \"))\n",
        "coverage = 5\n",
        "paint(height=test_h, width=test_w, cover=coverage)\n",
        "\n"
      ],
      "execution_count": null,
      "outputs": [
        {
          "output_type": "stream",
          "name": "stdout",
          "text": [
            "Height of wall: 5\n",
            "Width of wall: 4\n",
            "You'll need 4 cans of paint.\n"
          ]
        }
      ]
    },
    {
      "cell_type": "markdown",
      "metadata": {
        "id": "IHpa_GGphBzn"
      },
      "source": [
        "2.prime or not"
      ]
    },
    {
      "cell_type": "code",
      "metadata": {
        "colab": {
          "base_uri": "https://localhost:8080/"
        },
        "id": "7tdVjZ79gU1c",
        "outputId": "e8e9286c-efa5-4749-d0f3-9a443ffc18ed"
      },
      "source": [
        "\n",
        "def prime_checker(number):\n",
        "    is_prime = True\n",
        "    for i in range(2, number):\n",
        "        if number % i == 0:\n",
        "            is_prime = False\n",
        "    if is_prime:\n",
        "        print(\"It's a prime number.\")\n",
        "    else:\n",
        "        print(\"It's not a prime number.\")\n",
        "        \n",
        "n = int(input(\"Check this number: \"))\n",
        "prime_checker(number=n)\n"
      ],
      "execution_count": null,
      "outputs": [
        {
          "output_type": "stream",
          "name": "stdout",
          "text": [
            "Check this number: 43\n",
            "It's a prime number.\n"
          ]
        }
      ]
    },
    {
      "cell_type": "code",
      "metadata": {
        "colab": {
          "base_uri": "https://localhost:8080/",
          "height": 36
        },
        "id": "Ri0zllvRHBFV",
        "outputId": "cc34f87d-033b-43c5-db99-e54aab09230d"
      },
      "source": [
        "def name(f_name,l_name):\n",
        "  f_name=f_name.title()\n",
        "  l_name=l_name.title()\n",
        "  return f_name\n",
        "\n",
        "name(\"sam\",\"raj\")"
      ],
      "execution_count": null,
      "outputs": [
        {
          "output_type": "execute_result",
          "data": {
            "application/vnd.google.colaboratory.intrinsic+json": {
              "type": "string"
            },
            "text/plain": [
              "'Sam'"
            ]
          },
          "metadata": {},
          "execution_count": 35
        }
      ]
    },
    {
      "cell_type": "markdown",
      "metadata": {
        "id": "f5EV-Qo8IQoU"
      },
      "source": [
        "Multible returns"
      ]
    },
    {
      "cell_type": "code",
      "metadata": {
        "colab": {
          "base_uri": "https://localhost:8080/"
        },
        "id": "e6nLztvIIUnd",
        "outputId": "d267c601-9f2e-4aa6-e378-16b219119e11"
      },
      "source": [
        "def name(f_name,l_name):\n",
        "  if f_name==\"\" or l_name==\"\":\n",
        "    return \"name is empty\"\n",
        "  formatted_name=f_name.title()\n",
        "  formatted_l_name=l_name.title()\n",
        "\n",
        "  return f\"{formatted_name},{formatted_l_name}\"\n",
        "\n",
        "print(name(input(\"Enter a f_name: \"),input(\"Enter a l_name: \")))"
      ],
      "execution_count": null,
      "outputs": [
        {
          "output_type": "stream",
          "name": "stdout",
          "text": [
            "Enter a f_name: \n",
            "Enter a l_name: \n",
            "name is empty\n"
          ]
        }
      ]
    },
    {
      "cell_type": "markdown",
      "metadata": {
        "id": "cgrkFGN5MNuQ"
      },
      "source": [
        " create a function called days_in_month() which will take a year and a month as inputs, e.g.\n",
        "days_in_month(year=2022, month=2)\n",
        "\n",
        "And it will use this information to work out the number of days in the month, then return that as the output, e.g.:\n",
        "28"
      ]
    },
    {
      "cell_type": "code",
      "metadata": {
        "colab": {
          "base_uri": "https://localhost:8080/"
        },
        "id": "49Sf4NFGJTu9",
        "outputId": "a8901a37-895c-4db9-de0c-561238c03d34"
      },
      "source": [
        "def is_leap(year):\n",
        "  if year % 4 == 0:\n",
        "    if year % 100 == 0:\n",
        "      if year % 400 == 0:\n",
        "        return True\n",
        "      else:\n",
        "        return False\n",
        "    else:\n",
        "        return True\n",
        "  else:\n",
        "    return False\n",
        "    \n",
        "def days_in_month(year, month):\n",
        "  month_days = [31, 28, 31, 30, 31, 30, 31, 31, 30, 31, 30, 31]\n",
        "  if month > 12 or month < 1:\n",
        "    return \"Invalid month entered.\"\n",
        "  if month == 2 and is_leap(year):\n",
        "    return 29\n",
        "  return month_days[month - 1]\n",
        "\n",
        "\n",
        "year = int(input(\"Enter a year: \"))\n",
        "month = int(input(\"Enter a month: \"))\n",
        "days = days_in_month(year, month)\n",
        "print(days)"
      ],
      "execution_count": null,
      "outputs": [
        {
          "output_type": "stream",
          "name": "stdout",
          "text": [
            "Enter a year: 2021\n",
            "Enter a month: 11\n",
            "30\n"
          ]
        }
      ]
    },
    {
      "cell_type": "markdown",
      "metadata": {
        "id": "_QA6O4uINoQa"
      },
      "source": [
        "function with Doc string"
      ]
    },
    {
      "cell_type": "code",
      "metadata": {
        "colab": {
          "base_uri": "https://localhost:8080/",
          "height": 36
        },
        "id": "xiQ2pOjaNm3u",
        "outputId": "bfc3ff72-a4a8-4b38-c6cd-5b2d74fa155a"
      },
      "source": [
        "def my_function(name):\n",
        "  \"\"\"\n",
        "  this function returns the user name.\n",
        "  \"\"\"\n",
        "  return name\n",
        "\n",
        "my_function(\"siva\")"
      ],
      "execution_count": null,
      "outputs": [
        {
          "output_type": "execute_result",
          "data": {
            "application/vnd.google.colaboratory.intrinsic+json": {
              "type": "string"
            },
            "text/plain": [
              "'siva'"
            ]
          },
          "metadata": {},
          "execution_count": 47
        }
      ]
    },
    {
      "cell_type": "code",
      "metadata": {
        "id": "qIGWLbwCJTlu"
      },
      "source": [
        ""
      ],
      "execution_count": null,
      "outputs": []
    },
    {
      "cell_type": "code",
      "metadata": {
        "id": "sf6nH1fvJTRv"
      },
      "source": [
        ""
      ],
      "execution_count": null,
      "outputs": []
    },
    {
      "cell_type": "markdown",
      "metadata": {
        "id": "I9tm6obzi0mE"
      },
      "source": [
        "## Caesar Cipher"
      ]
    },
    {
      "cell_type": "code",
      "metadata": {
        "colab": {
          "base_uri": "https://localhost:8080/"
        },
        "id": "ZfqUsgYngUyc",
        "outputId": "419ad2f9-0914-41e5-93a8-d31fff1789e3"
      },
      "source": [
        "alphabet = ['a', 'b', 'c', 'd', 'e', 'f', 'g', 'h', 'i', 'j', 'k', 'l', 'm', 'n', 'o', 'p', 'q', 'r', 's', 't', 'u', 'v', 'w', 'x', 'y', 'z', 'a', 'b', 'c', 'd', 'e', 'f', 'g', 'h', 'i', 'j', 'k', 'l', 'm', 'n', 'o', 'p', 'q', 'r', 's', 't', 'u', 'v', 'w', 'x', 'y', 'z']\n",
        "\n",
        "def caesar(start_text, shift_amount, cipher_direction):\n",
        "  end_text = \"\"\n",
        "  if cipher_direction == \"decode\":\n",
        "    shift_amount *= -1\n",
        "  for char in start_text:\n",
        "\n",
        "    if char in alphabet:\n",
        "      position = alphabet.index(char)\n",
        "      new_position = position + shift_amount\n",
        "      end_text += alphabet[new_position]\n",
        "    else:\n",
        "      end_text += char\n",
        "  print(f\"Here's the {cipher_direction}d result: {end_text}\")\n",
        "\n",
        "should_end = False\n",
        "while not should_end:\n",
        "\n",
        "  direction = input(\"Type 'encode' to encrypt, type 'decode' to decrypt:\\n\")\n",
        "  text = input(\"Type your message:\\n\").lower()\n",
        "  shift = int(input(\"Type the shift number:\\n\"))\n",
        "  shift = shift % 26\n",
        "\n",
        "  caesar(start_text=text, shift_amount=shift, cipher_direction=direction)\n",
        "\n",
        "  restart = input(\"Type 'yes' if you want to go again. Otherwise type 'no'.\\n\")\n",
        "  if restart == \"no\":\n",
        "    should_end = True\n",
        "    print(\"Goodbye\")\n",
        "    \n"
      ],
      "execution_count": null,
      "outputs": [
        {
          "output_type": "stream",
          "name": "stdout",
          "text": [
            "Type 'encode' to encrypt, type 'decode' to decrypt:\n",
            "encode\n",
            "Type your message:\n",
            "hello\n",
            "Type the shift number:\n",
            "5\n",
            "Here's the encoded result: mjqqt\n",
            "Type 'yes' if you want to go again. Otherwise type 'no'.\n",
            "no\n",
            "Goodbye\n"
          ]
        }
      ]
    },
    {
      "cell_type": "markdown",
      "metadata": {
        "id": "a5qR0QydwmdW"
      },
      "source": [
        "## Control Statements"
      ]
    },
    {
      "cell_type": "markdown",
      "metadata": {
        "id": "zOxtJC30ykLk"
      },
      "source": [
        "break"
      ]
    },
    {
      "cell_type": "code",
      "metadata": {
        "colab": {
          "base_uri": "https://localhost:8080/"
        },
        "id": "WQ6Z_b1jve6u",
        "outputId": "c5ac8954-d584-4e8b-e64b-5c8d63ab5361"
      },
      "source": [
        "#break it used to terminate the current loop and resume the execution at the next statements\n",
        "letter=\"python\"\n",
        "for i in letter:\n",
        "  if i=='t':\n",
        "    break\n",
        "  print(i)"
      ],
      "execution_count": null,
      "outputs": [
        {
          "output_type": "stream",
          "name": "stdout",
          "text": [
            "p\n",
            "y\n"
          ]
        }
      ]
    },
    {
      "cell_type": "markdown",
      "metadata": {
        "id": "Cq_ymia_ymjF"
      },
      "source": [
        "continue"
      ]
    },
    {
      "cell_type": "code",
      "metadata": {
        "colab": {
          "base_uri": "https://localhost:8080/"
        },
        "id": "11MPbrvRve28",
        "outputId": "91869c7b-ba0d-49d8-cbda-3dfd2cec2320"
      },
      "source": [
        "#The continue statement rejects all the remaining statements in the current iteration of the loop\n",
        "letter=\"python\"\n",
        "for i in letter:\n",
        "  if i=='t':\n",
        "    continue\n",
        "  print(i)"
      ],
      "execution_count": null,
      "outputs": [
        {
          "output_type": "stream",
          "name": "stdout",
          "text": [
            "p\n",
            "y\n",
            "h\n",
            "o\n",
            "n\n"
          ]
        }
      ]
    },
    {
      "cell_type": "markdown",
      "metadata": {
        "id": "dY9m39iAygf-"
      },
      "source": [
        "The pass statement is a null operation"
      ]
    },
    {
      "cell_type": "markdown",
      "metadata": {
        "id": "lctNy7dPygMA"
      },
      "source": [
        "## Dictionary\n",
        "Dictionary is a key value pair"
      ]
    },
    {
      "cell_type": "code",
      "metadata": {
        "id": "KF6euWZJve0N"
      },
      "source": [
        "my_dict={\n",
        "    \"name\":\"arun\",\n",
        "    \"age\":21\n",
        "    }"
      ],
      "execution_count": null,
      "outputs": []
    },
    {
      "cell_type": "markdown",
      "metadata": {
        "id": "XtfEzP4M2H4h"
      },
      "source": [
        "1.Write a program that converts their scores to grades. By the end of your program, you should have a new dictionary called student_grades that should contain student names for keys and their grades for values."
      ]
    },
    {
      "cell_type": "code",
      "metadata": {
        "colab": {
          "base_uri": "https://localhost:8080/"
        },
        "id": "wpFHnFsC1DcX",
        "outputId": "cc96125e-90f5-4047-bb9f-9241c8c4123c"
      },
      "source": [
        "student_scores = {\n",
        "  \"Harry\": 81,\n",
        "  \"Ron\": 78,\n",
        "  \"Hermione\": 99, \n",
        "  \"Draco\": 74,\n",
        "  \"Neville\": 62,\n",
        "}\n",
        "student_grades={}\n",
        "for i in student_scores:\n",
        "  score=student_scores[i]\n",
        "  if score>90:\n",
        "    student_grades[i]=\"Outstanding\"\n",
        "  elif score > 80:\n",
        "    student_grades[i] = \"Exceeds Expectations\"\n",
        "  elif score > 70:\n",
        "    student_grades[i] = \"Acceptable\"\n",
        "  else:\n",
        "    student_grades[i] = \"Fail\"\n",
        "  print(score)"
      ],
      "execution_count": null,
      "outputs": [
        {
          "output_type": "stream",
          "name": "stdout",
          "text": [
            "81\n",
            "78\n",
            "99\n",
            "74\n",
            "62\n"
          ]
        }
      ]
    },
    {
      "cell_type": "code",
      "metadata": {
        "colab": {
          "base_uri": "https://localhost:8080/"
        },
        "id": "wosMDEbg1DXt",
        "outputId": "eebed23a-b322-4be0-b16b-abe106c06c8e"
      },
      "source": [
        "student_grades"
      ],
      "execution_count": null,
      "outputs": [
        {
          "output_type": "execute_result",
          "data": {
            "text/plain": [
              "{'Draco': 'Acceptable',\n",
              " 'Harry': 'Exceeds Expectations',\n",
              " 'Hermione': 'Outstanding',\n",
              " 'Neville': 'Fail',\n",
              " 'Ron': 'Acceptable'}"
            ]
          },
          "metadata": {},
          "execution_count": 26
        }
      ]
    },
    {
      "cell_type": "markdown",
      "metadata": {
        "id": "nZlweyW94yhu"
      },
      "source": [
        "## Nested Dictionary"
      ]
    },
    {
      "cell_type": "code",
      "metadata": {
        "colab": {
          "base_uri": "https://localhost:8080/"
        },
        "id": "JArG2dcB1DOI",
        "outputId": "aa8ca826-08ee-4eb4-d6d9-52eda11c1508"
      },
      "source": [
        "dic={\n",
        "    \"fruits\":['mango','apple','orange'],\n",
        "     'colors':{\n",
        "         \"name\":\"red\"\n",
        "     }\n",
        "}\n",
        "\n",
        "print(dic['colors']['name'])\n",
        "print(dic)"
      ],
      "execution_count": null,
      "outputs": [
        {
          "output_type": "stream",
          "name": "stdout",
          "text": [
            "red\n",
            "{'fruits': ['mango', 'apple', 'orange'], 'colors': {'name': 'red'}}\n"
          ]
        }
      ]
    },
    {
      "cell_type": "code",
      "metadata": {
        "colab": {
          "base_uri": "https://localhost:8080/"
        },
        "id": "ZOWJaZmh6C-m",
        "outputId": "4321ec6d-e759-4940-e07f-5282fac9273b"
      },
      "source": [
        "travel_log = [\n",
        "{\n",
        "  \"country\": \"France\",\n",
        "  \"visits\": 12,\n",
        "  \"cities\": [\"Paris\", \"Lille\", \"Dijon\"]\n",
        "},\n",
        "{\n",
        "  \"country\": \"Germany\",\n",
        "  \"visits\": 5,\n",
        "  \"cities\": [\"Berlin\", \"Hamburg\", \"Stuttgart\"]\n",
        "},\n",
        "]\n",
        "\n",
        "\n",
        "def add_new_country(country,visit,cities):\n",
        "  country={\n",
        "      \"country\":country,\n",
        "      \"visit\":2,\n",
        "      \"cities\":cities\n",
        "  }\n",
        "\n",
        "  travel_log.append(country)\n",
        "\n",
        "\n",
        "\n",
        "add_new_country(\"Russia\", 2, [\"Moscow\", \"Saint Petersburg\"])\n",
        "print(travel_log)\n",
        "\n",
        "\n"
      ],
      "execution_count": null,
      "outputs": [
        {
          "output_type": "stream",
          "name": "stdout",
          "text": [
            "[{'country': 'France', 'visits': 12, 'cities': ['Paris', 'Lille', 'Dijon']}, {'country': 'Germany', 'visits': 5, 'cities': ['Berlin', 'Hamburg', 'Stuttgart']}, {'country': 'Russia', 'visit': 2, 'cities': ['Moscow', 'Saint Petersburg']}]\n"
          ]
        }
      ]
    },
    {
      "cell_type": "code",
      "metadata": {
        "colab": {
          "base_uri": "https://localhost:8080/"
        },
        "id": "HN-ltuE_6abH",
        "outputId": "c7c12b48-2387-411b-8c52-6481f4799c87"
      },
      "source": [
        "travel_log"
      ],
      "execution_count": null,
      "outputs": [
        {
          "output_type": "execute_result",
          "data": {
            "text/plain": [
              "[{'cities': ['Paris', 'Lille', 'Dijon'], 'country': 'France', 'visits': 12},\n",
              " {'cities': ['Berlin', 'Hamburg', 'Stuttgart'],\n",
              "  'country': 'Germany',\n",
              "  'visits': 5},\n",
              " {'cities': ['Moscow', 'Saint Petersburg'], 'country': 'Russia', 'visit': 2}]"
            ]
          },
          "metadata": {},
          "execution_count": 29
        }
      ]
    },
    {
      "cell_type": "markdown",
      "metadata": {
        "id": "HY4A8kcjY0KI"
      },
      "source": [
        "## Simple Calculator using function and Dictionaries"
      ]
    },
    {
      "cell_type": "code",
      "metadata": {
        "id": "FVglPVXc8jbU",
        "colab": {
          "base_uri": "https://localhost:8080/"
        },
        "outputId": "e8b844b6-a16a-41a6-b8db-22ca77830731"
      },
      "source": [
        "def add(a,b):\n",
        "  return a+b\n",
        "def sub(a,b):\n",
        "  return a-b\n",
        "def mul(a,b):\n",
        "  return a*b\n",
        "def div(a,b):\n",
        "  return a/b\n",
        "\n",
        "operations={\n",
        "  \"+\":add,\n",
        "  \"-\":sub,\n",
        "  '*':mul,\n",
        "  '/':div\n",
        "}\n",
        "\n",
        "\n",
        "\n",
        "for number in operations:\n",
        "  print(number)\n",
        "\n",
        "choice=input(\"choose the operations you performed: \")\n",
        "\n",
        "res=operations[choice](num1,num2)\n",
        "\n",
        "print(f\"The result is {res}\")\n",
        "\n"
      ],
      "execution_count": null,
      "outputs": [
        {
          "output_type": "stream",
          "name": "stdout",
          "text": [
            "Enter a numbers: 19\n",
            "Enter a number: 19\n",
            "+\n",
            "-\n",
            "*\n",
            "/\n",
            "choose the operations you performed: -\n",
            "The result is 0\n"
          ]
        }
      ]
    },
    {
      "cell_type": "code",
      "metadata": {
        "id": "LI_DNIltYXT9"
      },
      "source": [
        ""
      ],
      "execution_count": null,
      "outputs": []
    }
  ]
}