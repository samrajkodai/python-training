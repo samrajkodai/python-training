{
  "nbformat": 4,
  "nbformat_minor": 0,
  "metadata": {
    "colab": {
      "name": "Copy of Day 1 python training.ipynb",
      "provenance": [],
      "collapsed_sections": []
    },
    "kernelspec": {
      "name": "python3",
      "display_name": "Python 3"
    },
    "language_info": {
      "name": "python"
    }
  },
  "cells": [
    {
      "cell_type": "markdown",
      "metadata": {
        "id": "HuARLIem86mu"
      },
      "source": [
        "print and input function"
      ]
    },
    {
      "cell_type": "code",
      "metadata": {
        "colab": {
          "base_uri": "https://localhost:8080/"
        },
        "id": "AnsWhMP78mqk",
        "outputId": "79ff118f-f7de-40f5-d5d7-59817291d426"
      },
      "source": [
        "print(\"Hello\" , input(\"what is your name?\"))"
      ],
      "execution_count": null,
      "outputs": [
        {
          "output_type": "stream",
          "name": "stdout",
          "text": [
            "what is your name?samraj\n",
            "Hello samraj\n"
          ]
        }
      ]
    },
    {
      "cell_type": "markdown",
      "metadata": {
        "id": "oPbRfXO39VwS"
      },
      "source": [
        "1.Write a program that prints the number of characters in a user's name."
      ]
    },
    {
      "cell_type": "code",
      "metadata": {
        "colab": {
          "base_uri": "https://localhost:8080/"
        },
        "id": "RxV331UN8rJ1",
        "outputId": "8b48eb7c-170f-43b2-9b83-64c5b0e86843"
      },
      "source": [
        "name=input(\"Enter your name?\")\n",
        "print(\"the number of characters present in a user's name\",len(name))"
      ],
      "execution_count": null,
      "outputs": [
        {
          "output_type": "stream",
          "name": "stdout",
          "text": [
            "Enter your name?sam\n",
            "the number of characters present in a user's name 3\n"
          ]
        }
      ]
    },
    {
      "cell_type": "markdown",
      "metadata": {
        "id": "bgppoWfB_o8m"
      },
      "source": [
        "Variables\n",
        "\n",
        "definition:\n",
        "variables are containers for storing a data. "
      ]
    },
    {
      "cell_type": "code",
      "metadata": {
        "colab": {
          "base_uri": "https://localhost:8080/"
        },
        "id": "0YlhCtE69gzN",
        "outputId": "5c0372f9-24d8-4572-f0c6-c6b23904d6ac"
      },
      "source": [
        "#example\n",
        "\n",
        "name=input(\"what is your name?\")\n",
        "#here name is a variable\n",
        "print(name)\n",
        "\n"
      ],
      "execution_count": null,
      "outputs": [
        {
          "output_type": "stream",
          "name": "stdout",
          "text": [
            "what is your name?samraj\n",
            "samraj\n"
          ]
        }
      ]
    },
    {
      "cell_type": "markdown",
      "metadata": {
        "id": "oe7aI3AaBSgs"
      },
      "source": [
        "## Rules:\n",
        "####  1.cannot start with the number\n",
        "#### 2.it only contain (A-z, 0-9, and _ )\n",
        "#### 3.variable start with the letter or underscore\n",
        "#### 4.variable names are case sensitive"
      ]
    },
    {
      "cell_type": "markdown",
      "metadata": {
        "id": "JGt5iGMnCKZj"
      },
      "source": [
        "1.Write a program that switches the values stored in the variables a and b. "
      ]
    },
    {
      "cell_type": "code",
      "metadata": {
        "colab": {
          "base_uri": "https://localhost:8080/"
        },
        "id": "gi3DLNG9BN43",
        "outputId": "f5f02ad9-5dd1-478b-9a28-e9019fbd702b"
      },
      "source": [
        "a=int(input(\"enter a:\"))\n",
        "b=int(input(\"enter b:\"))\n",
        "\n",
        "c=a\n",
        "a=b\n",
        "b=c\n",
        "\n",
        "\n",
        "\n",
        "print(\"value of a is {}\".format(a))\n",
        "print(\"value of b is {}\".format(b))"
      ],
      "execution_count": null,
      "outputs": [
        {
          "output_type": "stream",
          "name": "stdout",
          "text": [
            "enter a:5\n",
            "enter b:7\n",
            "value of a is 7\n",
            "value of b is 5\n"
          ]
        }
      ]
    },
    {
      "cell_type": "markdown",
      "metadata": {
        "id": "T-CS4luUG1nh"
      },
      "source": [
        "# Assignment"
      ]
    },
    {
      "cell_type": "code",
      "metadata": {
        "id": "tEoXbu1MGNeT"
      },
      "source": [
        "#1. Create a greeting for your program.\n",
        "\n",
        "#2. Ask the user for the city that they grew up in.\n",
        "\n",
        "#3. Ask the user for the name of a pet.\n",
        "\n",
        "#4. Combine the name of their city and pet and show them their band name.\n",
        "\n",
        "#5. Make sure the input cursor shows on a new line, see the example at:\n",
        "#   https://band-name-generator-end.appbrewery.repl.run/"
      ],
      "execution_count": null,
      "outputs": []
    },
    {
      "cell_type": "code",
      "metadata": {
        "colab": {
          "base_uri": "https://localhost:8080/"
        },
        "id": "mOKmhi80JdHw",
        "outputId": "d2b8114b-1655-40ee-a91b-6f1f9013add6"
      },
      "source": [
        "print(\"welcome to python program training\")\n",
        "city=input(\"What's name of the city you grew up in?\")\n",
        "pet=input(\"name of your pet?\")\n",
        "band_name=city+\" \"+pet\n",
        "print(\"your band name is\".format(band_name))"
      ],
      "execution_count": null,
      "outputs": [
        {
          "output_type": "stream",
          "name": "stdout",
          "text": [
            "welcome to python program training\n",
            "What's name of the city you grew up in?chennai\n",
            "name of your pet?cat\n",
            "your band name is chennai cat\n"
          ]
        }
      ]
    },
    {
      "cell_type": "markdown",
      "metadata": {
        "id": "iVRx-BrFL8Pz"
      },
      "source": [
        "# Data Types\n",
        "\n",
        "#### primitive data types\n",
        "\n",
        "##### string\n",
        "we can use single or double quotes to make string in python.\n",
        "##### int\n",
        "integer is the whole number\n",
        "##### float\n",
        "\n",
        "##### Boolean\n",
        "we have a True or False in python"
      ]
    },
    {
      "cell_type": "code",
      "metadata": {
        "id": "XoxZtQk2KX6h"
      },
      "source": [
        "#string\n",
        "name='sam'\n",
        "#integer\n",
        "n=10\n",
        "#float\n",
        "f=10.5\n",
        "#boolean\n",
        "y=True"
      ],
      "execution_count": null,
      "outputs": []
    },
    {
      "cell_type": "markdown",
      "metadata": {
        "id": "xNwl5wsvQV72"
      },
      "source": [
        "Type Conversion"
      ]
    },
    {
      "cell_type": "code",
      "metadata": {
        "colab": {
          "base_uri": "https://localhost:8080/"
        },
        "id": "zzCh1wT2M6nt",
        "outputId": "b73b94ed-ee8c-4a89-b659-acc41edef79a"
      },
      "source": [
        "n=10\n",
        "print(type(n))\n",
        "p=str(n)\n",
        "print(type(p))"
      ],
      "execution_count": null,
      "outputs": [
        {
          "output_type": "stream",
          "name": "stdout",
          "text": [
            "<class 'int'>\n",
            "<class 'str'>\n"
          ]
        }
      ]
    },
    {
      "cell_type": "markdown",
      "metadata": {
        "id": "Da1GV4vxRI-e"
      },
      "source": [
        "1.Write a program that adds the digits in a 2 digit number. e.g. if the input was 35, then the output should be 3 + 5 = 8"
      ]
    },
    {
      "cell_type": "code",
      "metadata": {
        "colab": {
          "base_uri": "https://localhost:8080/"
        },
        "id": "7ULxw4euQbHt",
        "outputId": "fcc291cc-225d-437e-e4c1-9e1d111ff7bc"
      },
      "source": [
        "n=input(\"Enter a number: \")\n",
        "res=int(n[0])+int(n[1])\n",
        "print(res)"
      ],
      "execution_count": null,
      "outputs": [
        {
          "output_type": "stream",
          "name": "stdout",
          "text": [
            "Enter a number: 45\n",
            "9\n"
          ]
        }
      ]
    },
    {
      "cell_type": "markdown",
      "metadata": {
        "id": "fLyWy89iUih9"
      },
      "source": [
        "2.Write a program that calculates the Body Mass Index (BMI) from a user's weight and height."
      ]
    },
    {
      "cell_type": "code",
      "metadata": {
        "colab": {
          "base_uri": "https://localhost:8080/"
        },
        "id": "ekIFUgtgUjUk",
        "outputId": "6d7f2dd6-a5df-4f66-cc51-bd1ab8ebd690"
      },
      "source": [
        "weight=int(input(\"Enter a weight in kg: \"))\n",
        "height=float(input(\"Enter a height in m: \"))\n",
        "BMI=weight/(height**2)\n",
        "print(int(BMI))"
      ],
      "execution_count": null,
      "outputs": [
        {
          "output_type": "stream",
          "name": "stdout",
          "text": [
            "Enter a weight in kg: 50\n",
            "Enter a height in m: 0.127\n",
            "3100\n"
          ]
        }
      ]
    },
    {
      "cell_type": "code",
      "metadata": {
        "colab": {
          "base_uri": "https://localhost:8080/"
        },
        "id": "aNEH-l2PVhEn",
        "outputId": "db5970f7-c44a-4b78-8ada-8d5272f38efe"
      },
      "source": [
        "height"
      ],
      "execution_count": null,
      "outputs": [
        {
          "output_type": "execute_result",
          "data": {
            "text/plain": [
              "0.127"
            ]
          },
          "metadata": {},
          "execution_count": 43
        }
      ]
    },
    {
      "cell_type": "code",
      "metadata": {
        "colab": {
          "base_uri": "https://localhost:8080/"
        },
        "id": "e5X59tABVpNl",
        "outputId": "d9bc2b91-cc95-44b4-b57a-be585c2019ef"
      },
      "source": [
        "print(\"your BMI is {}\".format(BMI))"
      ],
      "execution_count": null,
      "outputs": [
        {
          "output_type": "stream",
          "name": "stdout",
          "text": [
            "your BMI is 3100.0062000124\n"
          ]
        }
      ]
    },
    {
      "cell_type": "markdown",
      "metadata": {
        "id": "ZVBULdvaY8ge"
      },
      "source": [
        "3.Create a program using maths and f-Strings that tells us how many days, weeks, months we have left if we live until 90 years old. "
      ]
    },
    {
      "cell_type": "code",
      "metadata": {
        "colab": {
          "base_uri": "https://localhost:8080/"
        },
        "id": "r-SCjpXyYKIs",
        "outputId": "4f1ca1a3-1183-4352-a860-eae423a60630"
      },
      "source": [
        "total_years=90\n",
        "age=int(input(\"Enter your age: \"))\n",
        "\n",
        "left=total_years-age\n",
        "months=12\n",
        "weeks=52\n",
        "days=365\n",
        "\n",
        "actual_months=left*months\n",
        "actual_weeks=left*weeks\n",
        "actual_days=left*days\n",
        "\n",
        "print(f\"you have a {actual_months} months , {actual_days} days , {actual_weeks} weeks left\")"
      ],
      "execution_count": null,
      "outputs": [
        {
          "output_type": "stream",
          "name": "stdout",
          "text": [
            "Enter your age: 52\n",
            "you have a 456 months , 13870 days , 1976 weeks left\n"
          ]
        }
      ]
    },
    {
      "cell_type": "markdown",
      "metadata": {
        "id": "UYaQE4cAbENy"
      },
      "source": [
        "# ASSIGNMENT"
      ]
    },
    {
      "cell_type": "code",
      "metadata": {
        "id": "oG_qB9sAZMRm"
      },
      "source": [
        "#If the bill was $150.00, split between 5 people, with 12% tip. \n",
        "\n",
        "#Each person should pay (150.00 / 5) * 1.12 = 33.6\n",
        "#Format the result to 2 decimal places = 33.60\n",
        "\n",
        "#Tip: There are 2 ways to round a number. You might have to do some Googling to solve this.💪\n",
        "\n",
        "#Write your code below this line 👇\n"
      ],
      "execution_count": null,
      "outputs": []
    },
    {
      "cell_type": "code",
      "metadata": {
        "colab": {
          "base_uri": "https://localhost:8080/"
        },
        "id": "pVoNTdbRZauT",
        "outputId": "c1cf5ad3-5ecb-4fdf-9ec0-22eebed6b22e"
      },
      "source": [
        "\n",
        "bill = float(input(\"What was the total bill? \"))\n",
        "tip = int(input(\"How much tip would you like to give? 10, 12, or 15? \"))\n",
        "persons = int(input(\"How many persons?\"))\n",
        "\n",
        "tip_as_percent = tip / 100\n",
        "total_tip_amount = bill * tip_as_percent\n",
        "total_bill = bill + total_tip_amount\n",
        "bill_per_person = total_bill / persons\n",
        "final_amount = round(bill_per_person, 2)\n",
        "\n",
        "print(f\"Each person should pay: {final_amount}\")"
      ],
      "execution_count": null,
      "outputs": [
        {
          "output_type": "stream",
          "name": "stdout",
          "text": [
            "What was the total bill? 150\n",
            "How much tip would you like to give? 10, 12, or 15? 12\n",
            "How many persons?5\n",
            "Each person should pay: 33.6\n"
          ]
        }
      ]
    },
    {
      "cell_type": "markdown",
      "metadata": {
        "id": "ToQ3svQofSK8"
      },
      "source": [
        "## control flow and logical operators"
      ]
    },
    {
      "cell_type": "markdown",
      "metadata": {
        "id": "YEIdPo2zgJGR"
      },
      "source": [
        "## if and else\n",
        "\n",
        "               if condition:\n",
        "                    do this\n",
        "               else:\n",
        "                    do this\n"
      ]
    },
    {
      "cell_type": "markdown",
      "metadata": {
        "id": "GOSa6jK_fj00"
      },
      "source": [
        "1.Write a program that works out whether if a given number is an odd or even number."
      ]
    },
    {
      "cell_type": "code",
      "metadata": {
        "colab": {
          "base_uri": "https://localhost:8080/"
        },
        "id": "tO-MTJjbcT50",
        "outputId": "1803cf98-ea4b-4610-b705-af5e3e88585c"
      },
      "source": [
        "n=int(input(\"Enter a number: \"))\n",
        "\n",
        "if n%2==0:\n",
        "  print(\"the number is even\")\n",
        "else:\n",
        "  print(\"The number is odd\")"
      ],
      "execution_count": null,
      "outputs": [
        {
          "output_type": "stream",
          "name": "stdout",
          "text": [
            "Enter a number: 5\n",
            "The number is odd\n"
          ]
        }
      ]
    },
    {
      "cell_type": "markdown",
      "metadata": {
        "id": "mPal9AzQgY5K"
      },
      "source": [
        "## nested if else\n",
        "\n",
        "              if condition: \n",
        "                  if another condition:\n",
        "                        do this\n",
        "                  else: \n",
        "                        do this\n",
        "              else:\n",
        "                  do this"
      ]
    },
    {
      "cell_type": "code",
      "metadata": {
        "colab": {
          "base_uri": "https://localhost:8080/"
        },
        "id": "0I_Mg_N8h8qS",
        "outputId": "64751ee5-ac12-43fa-da1b-ad26e24fcbe2"
      },
      "source": [
        "height=int(input(\"Enter a height: \"))\n",
        "\n",
        "if height>=120:\n",
        "  age=int(input(\"Enter a age: \"))\n",
        "  if age>=20:\n",
        "    print(\"please pay 150\")\n",
        "  else:\n",
        "    print(\"please pay 100\")\n",
        "\n",
        "else:\n",
        "  print(\"please pay 50\")\n"
      ],
      "execution_count": null,
      "outputs": [
        {
          "output_type": "stream",
          "name": "stdout",
          "text": [
            "Enter a height: 120\n",
            "Enter a age: 20\n",
            "please pay 150\n"
          ]
        }
      ]
    },
    {
      "cell_type": "markdown",
      "metadata": {
        "id": "-xtxNTDIhRTC"
      },
      "source": [
        "## if elif else\n",
        "\n",
        "          if condition1: \n",
        "               do A\n",
        "          elif condition2:\n",
        "               do B\n",
        "          else:\n",
        "               do this"
      ]
    },
    {
      "cell_type": "code",
      "metadata": {
        "colab": {
          "base_uri": "https://localhost:8080/"
        },
        "id": "Fc0ka1hBfyjI",
        "outputId": "bbce1a72-3c9f-4dde-a444-ea1e62c15f36"
      },
      "source": [
        "height=int(input(\"Enter a height: \"))\n",
        "\n",
        "if height>=120:\n",
        "  age=int(input(\"Enter a age: \"))\n",
        "  if age>=20:\n",
        "    print(\"please pay 150\")\n",
        "  elif age <=10:\n",
        "    print(\"no need to pay\")\n",
        "  else:\n",
        "    print(\"please pay 100\")\n",
        "\n",
        "else:\n",
        "  print(\"please pay 50\")\n"
      ],
      "execution_count": null,
      "outputs": [
        {
          "output_type": "stream",
          "name": "stdout",
          "text": [
            "Enter a height: 120\n",
            "Enter a age: 8\n",
            "no need to pay\n"
          ]
        }
      ]
    },
    {
      "cell_type": "markdown",
      "metadata": {
        "id": "wgAzzyDdlVFD"
      },
      "source": [
        "Write a program that interprets the Body Mass Index (BMI) based on a user's weight and height."
      ]
    },
    {
      "cell_type": "code",
      "metadata": {
        "colab": {
          "base_uri": "https://localhost:8080/"
        },
        "id": "-j3nt-94jVT0",
        "outputId": "9a312f16-bdc4-4d0b-f65a-f9b819df460d"
      },
      "source": [
        "height = float(input(\"enter your height in m: \"))\n",
        "weight = float(input(\"enter your weight in kg: \"))\n",
        "\n",
        "bmi = round(weight / height ** 2)\n",
        "if bmi < 18.5:\n",
        "  print(f\"Your BMI is {bmi}, you are underweight.\")\n",
        "elif bmi < 25:\n",
        "  print(f\"Your BMI is {bmi}, you have a normal weight.\")\n",
        "elif bmi < 30:\n",
        "  print(f\"Your BMI is {bmi}, you are slightly overweight.\")\n",
        "elif bmi < 35:\n",
        "  print(f\"Your BMI is {bmi}, you are obese.\")\n",
        "else:\n",
        "  print(f\"Your BMI is {bmi}, you are clinically obese.\")\n"
      ],
      "execution_count": null,
      "outputs": [
        {
          "output_type": "stream",
          "name": "stdout",
          "text": [
            "enter your height in m: 0.127\n",
            "enter your weight in kg: 50\n",
            "Your BMI is 3100, you are clinically obese.\n"
          ]
        }
      ]
    },
    {
      "cell_type": "markdown",
      "metadata": {
        "id": "pyl76CAKl15X"
      },
      "source": [
        "Write a program that works out whether if a given year is a leap year. A normal year has 365 days, leap years have 366, with an extra day in February."
      ]
    },
    {
      "cell_type": "code",
      "metadata": {
        "colab": {
          "base_uri": "https://localhost:8080/"
        },
        "id": "d9yTbskDlUVr",
        "outputId": "828c99b0-77f2-4ff2-884e-46128e2f401a"
      },
      "source": [
        "year =int(input(\"Enter a year: \"))\n",
        "\n",
        "if (year % 4) == 0:\n",
        "   if (year % 100) == 0:\n",
        "       if (year % 400) == 0:\n",
        "           print(\"{} is a leap year\".format(year))\n",
        "       else:\n",
        "           print(\"{} is not a leap year\".format(year))\n",
        "   else:\n",
        "       print(\"{} is a leap year\".format(year))\n",
        "else:\n",
        "   print(\"{} is not a leap year\".format(year))"
      ],
      "execution_count": null,
      "outputs": [
        {
          "output_type": "stream",
          "name": "stdout",
          "text": [
            "Enter a year: 2000\n",
            "2000 is a leap year\n"
          ]
        }
      ]
    },
    {
      "cell_type": "markdown",
      "metadata": {
        "id": "lyzo4M90nif5"
      },
      "source": [
        "## multible if\n",
        "\n",
        "              if condition:\n",
        "                    do A\n",
        "              f condition:\n",
        "                    do B\n",
        "              if condition:\n",
        "                    do C"
      ]
    },
    {
      "cell_type": "markdown",
      "metadata": {
        "id": "2sd-5DhYp3Pi"
      },
      "source": [
        "## Automatic pizza order program"
      ]
    },
    {
      "cell_type": "code",
      "metadata": {
        "colab": {
          "base_uri": "https://localhost:8080/"
        },
        "id": "Yjlr1ZvgoJLF",
        "outputId": "cb5d9b0a-1bea-4270-b660-410c6e7cc31c"
      },
      "source": [
        "print(\"Welcome to Python Pizza Deliveries!\")\n",
        "size = input(\"What size pizza do you want? S, M, or L \")\n",
        "add_pepperoni = input(\"Do you want pepperoni? Y or N \")\n",
        "extra_cheese = input(\"Do you want extra cheese? Y or N \")\n",
        "\n",
        "bill = 0\n",
        "\n",
        "if size == \"S\":\n",
        "  bill += 15\n",
        "elif size == \"M\":\n",
        "  bill += 20\n",
        "else:\n",
        "  bill += 25\n",
        "\n",
        "if add_pepperoni == \"Y\":\n",
        "  if size == \"S\":\n",
        "    bill += 2\n",
        "  else:\n",
        "    bill += 3\n",
        "    \n",
        "if extra_cheese == \"Y\":\n",
        "  bill += 1\n",
        "  \n",
        "print(f\"Your final bill is: {bill}.\")\n",
        "\n"
      ],
      "execution_count": null,
      "outputs": [
        {
          "output_type": "stream",
          "name": "stdout",
          "text": [
            "Welcome to Python Pizza Deliveries!\n",
            "What size pizza do you want? S, M, or L L\n",
            "Do you want pepperoni? Y or N Y\n",
            "Do you want extra cheese? Y or N Y\n",
            "Your final bill is: 29.\n"
          ]
        }
      ]
    },
    {
      "cell_type": "markdown",
      "metadata": {
        "id": "d4c6VP38uS-Z"
      },
      "source": [
        "## if else with logical operators"
      ]
    },
    {
      "cell_type": "code",
      "metadata": {
        "colab": {
          "base_uri": "https://localhost:8080/"
        },
        "id": "tLqN00iqp9-O",
        "outputId": "9f8e424a-76bc-44ce-ccd4-67bbb0eeb132"
      },
      "source": [
        "age=int(input(\"enter a age: \"))\n",
        "height=int(input(\"Enter a Height: \"))\n",
        "\n",
        "if age>=20 and height >=100:\n",
        "  print(\"price of the ticket is 200\")\n",
        "elif age <20 and height<100:\n",
        "  print(\"price of the ticket is 100\")\n",
        "else:\n",
        "  print(\"price of the ticket is 50\")"
      ],
      "execution_count": null,
      "outputs": [
        {
          "output_type": "stream",
          "name": "stdout",
          "text": [
            "enter a age: 20\n",
            "Enter a Height: 120\n",
            "price of the ticket is 200\n"
          ]
        }
      ]
    },
    {
      "cell_type": "markdown",
      "metadata": {
        "id": "vRDnrG6nxKPs"
      },
      "source": [
        "You are going to write a program that tests the compatibility between two people.\n",
        "\n",
        "To work out the love score between two people:\n",
        "\n",
        "    Take both people's names and check for the number of times the letters in the word TRUE occurs. Then check for the number of times the letters in the word LOVE occurs. Then combine these numbers to make a 2 digit number. "
      ]
    },
    {
      "cell_type": "code",
      "metadata": {
        "colab": {
          "base_uri": "https://localhost:8080/"
        },
        "id": "i6W3X-BIud8m",
        "outputId": "8045ce6c-9010-472e-e9da-8eda87a0b4f8"
      },
      "source": [
        "print(\"Welcome to the Love Calculator!\")\n",
        "name1 = input(\"What is your name? \\n\")\n",
        "name2 = input(\"What is their name? \\n\")\n",
        "\n",
        "name3=name1+name2\n",
        "name3=name3.lower()\n",
        "\n",
        "T=name3.count(\"t\")\n",
        "R=name3.count(\"r\")\n",
        "U=name3.count(\"u\")\n",
        "E=name3.count(\"e\")\n",
        "first=T+R+U+E\n",
        "L=name3.count(\"l\")\n",
        "O=name3.count(\"o\")\n",
        "V=name3.count(\"v\")\n",
        "E=name3.count(\"e\")\n",
        "second=L+O+V+E\n",
        "\n",
        "score=int(str(first)+str(second))\n",
        "print(score)\n",
        "\n",
        "if (score < 10) or (score > 90):\n",
        "  print(f\"Your score is {score}, you go together like coke and mentos.\")\n",
        "elif (score >= 40) and (score <= 50):\n",
        "  print(f\"Your score is {score}, you are alright together.\")\n",
        "else:\n",
        "  print(f\"Your score is {score}.\")\n"
      ],
      "execution_count": null,
      "outputs": [
        {
          "output_type": "stream",
          "name": "stdout",
          "text": [
            "Welcome to the Love Calculator!\n",
            "What is your name? \n",
            "Kim Kardashian\n",
            "What is their name? \n",
            "Kim Kardashian\n",
            "20\n",
            "Your score is 20.\n"
          ]
        }
      ]
    },
    {
      "cell_type": "markdown",
      "metadata": {
        "id": "71CF7jnx0Max"
      },
      "source": [
        "# Assignment"
      ]
    },
    {
      "cell_type": "code",
      "metadata": {
        "colab": {
          "base_uri": "https://localhost:8080/"
        },
        "id": "H_Vfrdt_xT1V",
        "outputId": "56ad833b-d8cb-4689-d28c-9d1710035754"
      },
      "source": [
        "print('''\n",
        "*******************************************************************************\n",
        "          |                   |                  |                     |\n",
        " _________|________________.=\"\"_;=.______________|_____________________|_______\n",
        "|                   |  ,-\"_,=\"\"     `\"=.|                  |\n",
        "|___________________|__\"=._o`\"-._        `\"=.______________|___________________\n",
        "          |                `\"=._o`\"=._      _`\"=._                     |\n",
        " _________|_____________________:=._o \"=._.\"_.-=\"'\"=.__________________|_______\n",
        "|                   |    __.--\" , ; `\"=._o.\" ,-\"\"\"-._ \".   |\n",
        "|___________________|_._\"  ,. .` ` `` ,  `\"-._\"-._   \". '__|___________________\n",
        "          |           |o`\"=._` , \"` `; .\". ,  \"-._\"-._; ;              |\n",
        " _________|___________| ;`-.o`\"=._; .\" ` '`.\"\\` . \"-._ /_______________|_______\n",
        "|                   | |o;    `\"-.o`\"=._``  '` \" ,__.--o;   |\n",
        "|___________________|_| ;     (#) `-.o `\"=.`_.--\"_o.-; ;___|___________________\n",
        "____/______/______/___|o;._    \"      `\".o|o_.--\"    ;o;____/______/______/____\n",
        "/______/______/______/_\"=._o--._        ; | ;        ; ;/______/______/______/_\n",
        "____/______/______/______/__\"=._o--._   ;o|o;     _._;o;____/______/______/____\n",
        "/______/______/______/______/____\"=._o._; | ;_.--\"o.--\"_/______/______/______/_\n",
        "____/______/______/______/______/_____\"=.o|o_.--\"\"___/______/______/______/____\n",
        "/______/______/______/______/______/______/______/______/______/______/_____ /\n",
        "*******************************************************************************\n",
        "''')\n",
        "print(\"Welcome to Treasure Island.\")\n",
        "print(\"Your mission is to find the treasure.\") \n",
        "\n",
        "\n",
        "\n",
        "choice1 = input('You\\'re at a cross road. Where do you want to go? Type \"left\" or \"right\" \\n').lower()\n",
        "if choice1 == \"left\":\n",
        "  choice2 = input('You\\'ve come to a lake. There is an island in the middle of the lake. Type \"wait\" to wait for a boat. Type \"swim\" to swim across. \\n').lower()\n",
        "  if choice2 == \"wait\":\n",
        "    choice3 = input(\"You arrive at the island unharmed. There is a house with 3 doors. One red, one yellow and one blue. Which colour do you choose? \\n\").lower()\n",
        "    if choice3 == \"red\":\n",
        "      print(\"It's a room full of fire. Game Over.\")\n",
        "    elif choice3 == \"yellow\":\n",
        "      print(\"You found the treasure! You Win!\")\n",
        "    elif choice3 == \"blue\":\n",
        "      print(\"You enter a room of beasts. Game Over.\")\n",
        "    else:\n",
        "      print(\"You chose a door that doesn't exist. Game Over.\")\n",
        "  else:\n",
        "    print(\"You get attacked by an angry trout. Game Over.\")\n",
        "else:\n",
        "  print(\"You fell into a hole. Game Over.\")"
      ],
      "execution_count": null,
      "outputs": [
        {
          "output_type": "stream",
          "name": "stdout",
          "text": [
            "\n",
            "*******************************************************************************\n",
            "          |                   |                  |                     |\n",
            " _________|________________.=\"\"_;=.______________|_____________________|_______\n",
            "|                   |  ,-\"_,=\"\"     `\"=.|                  |\n",
            "|___________________|__\"=._o`\"-._        `\"=.______________|___________________\n",
            "          |                `\"=._o`\"=._      _`\"=._                     |\n",
            " _________|_____________________:=._o \"=._.\"_.-=\"'\"=.__________________|_______\n",
            "|                   |    __.--\" , ; `\"=._o.\" ,-\"\"\"-._ \".   |\n",
            "|___________________|_._\"  ,. .` ` `` ,  `\"-._\"-._   \". '__|___________________\n",
            "          |           |o`\"=._` , \"` `; .\". ,  \"-._\"-._; ;              |\n",
            " _________|___________| ;`-.o`\"=._; .\" ` '`.\"\\` . \"-._ /_______________|_______\n",
            "|                   | |o;    `\"-.o`\"=._``  '` \" ,__.--o;   |\n",
            "|___________________|_| ;     (#) `-.o `\"=.`_.--\"_o.-; ;___|___________________\n",
            "____/______/______/___|o;._    \"      `\".o|o_.--\"    ;o;____/______/______/____\n",
            "/______/______/______/_\"=._o--._        ; | ;        ; ;/______/______/______/_\n",
            "____/______/______/______/__\"=._o--._   ;o|o;     _._;o;____/______/______/____\n",
            "/______/______/______/______/____\"=._o._; | ;_.--\"o.--\"_/______/______/______/_\n",
            "____/______/______/______/______/_____\"=.o|o_.--\"\"___/______/______/______/____\n",
            "/______/______/______/______/______/______/______/______/______/______/_____ /\n",
            "*******************************************************************************\n",
            "\n",
            "Welcome to Treasure Island.\n",
            "Your mission is to find the treasure.\n",
            "You're at a cross road. Where do you want to go? Type \"left\" or \"right\" \n",
            "left\n",
            "You've come to a lake. There is an island in the middle of the lake. Type \"wait\" to wait for a boat. Type \"swim\" to swim across. \n",
            "swim\n",
            "You get attacked by an angry trout. Game Over.\n"
          ]
        }
      ]
    },
    {
      "cell_type": "markdown",
      "metadata": {
        "id": "lYyj36QR2mOt"
      },
      "source": [
        "## Randomization and Python list"
      ]
    },
    {
      "cell_type": "code",
      "metadata": {
        "id": "aijbOCzk263D",
        "colab": {
          "base_uri": "https://localhost:8080/"
        },
        "outputId": "81d2b79d-79b4-4eff-ae37-d53bf74d5540"
      },
      "source": [
        "from random import randint\n",
        "import random\n",
        "print(randint(10,20))\n",
        "print(random.random())\n"
      ],
      "execution_count": 4,
      "outputs": [
        {
          "output_type": "stream",
          "name": "stdout",
          "text": [
            "19\n",
            "0.8263878673905674\n"
          ]
        }
      ]
    },
    {
      "cell_type": "markdown",
      "metadata": {
        "id": "J8Mq39wwFATI"
      },
      "source": [
        "You are going to write a virtual coin toss program. It will randomly tell the user \"Heads\" or \"Tails\". "
      ]
    },
    {
      "cell_type": "code",
      "metadata": {
        "colab": {
          "base_uri": "https://localhost:8080/"
        },
        "id": "4hSIuJR_EHq5",
        "outputId": "b9e5d94a-4175-4867-fc85-8a7d738e64de"
      },
      "source": [
        "toss=round(random.random())\n",
        "\n",
        "if toss==1:\n",
        "  print(\"head\")\n",
        "else:\n",
        "  print(\"tail\")"
      ],
      "execution_count": 11,
      "outputs": [
        {
          "output_type": "stream",
          "name": "stdout",
          "text": [
            "tail\n"
          ]
        }
      ]
    },
    {
      "cell_type": "markdown",
      "metadata": {
        "id": "uaFwP9FMGmNG"
      },
      "source": [
        "##LIST\n",
        "\n",
        "#### List is mutable"
      ]
    },
    {
      "cell_type": "code",
      "metadata": {
        "colab": {
          "base_uri": "https://localhost:8080/",
          "height": 36
        },
        "id": "FSE0i3SmFPXi",
        "outputId": "0d6e18e4-2f15-4cc3-aab6-129be0faf541"
      },
      "source": [
        "fruits=[\"mango\",'apple','orange','pear','cherry']\n",
        "fruits[0]"
      ],
      "execution_count": 12,
      "outputs": [
        {
          "output_type": "execute_result",
          "data": {
            "application/vnd.google.colaboratory.intrinsic+json": {
              "type": "string"
            },
            "text/plain": [
              "'mango'"
            ]
          },
          "metadata": {},
          "execution_count": 12
        }
      ]
    },
    {
      "cell_type": "code",
      "metadata": {
        "colab": {
          "base_uri": "https://localhost:8080/"
        },
        "id": "RmKbtBW7G8Gv",
        "outputId": "52c3256b-038a-4bca-ec65-99b8cc99e19a"
      },
      "source": [
        "#nested list\n",
        "fruits=[\"mango\",'apple','orange','pear','cherry',[\"mango\",'apple','orange','pear','cherry']]\n",
        "fruits[5]"
      ],
      "execution_count": 14,
      "outputs": [
        {
          "output_type": "execute_result",
          "data": {
            "text/plain": [
              "['mango', 'apple', 'orange', 'pear', 'cherry']"
            ]
          },
          "metadata": {},
          "execution_count": 14
        }
      ]
    },
    {
      "cell_type": "code",
      "metadata": {
        "id": "OwH_5QkzHTpx"
      },
      "source": [
        "fruits.extend([\"mango\",'apple','orange'])"
      ],
      "execution_count": 15,
      "outputs": []
    },
    {
      "cell_type": "code",
      "metadata": {
        "colab": {
          "base_uri": "https://localhost:8080/"
        },
        "id": "CE61eBinH9c0",
        "outputId": "437ffa17-07b7-40f8-f508-bbd31cac7f9b"
      },
      "source": [
        "fruits"
      ],
      "execution_count": 16,
      "outputs": [
        {
          "output_type": "execute_result",
          "data": {
            "text/plain": [
              "['mango',\n",
              " 'apple',\n",
              " 'orange',\n",
              " 'pear',\n",
              " 'cherry',\n",
              " ['mango', 'apple', 'orange', 'pear', 'cherry'],\n",
              " 'mango',\n",
              " 'apple',\n",
              " 'orange']"
            ]
          },
          "metadata": {},
          "execution_count": 16
        }
      ]
    },
    {
      "cell_type": "code",
      "metadata": {
        "id": "UqkHVNbiH_by"
      },
      "source": [
        "fruits.append(10)"
      ],
      "execution_count": 17,
      "outputs": []
    },
    {
      "cell_type": "code",
      "metadata": {
        "colab": {
          "base_uri": "https://localhost:8080/"
        },
        "id": "YCRhYDTzIFy8",
        "outputId": "b551f834-7e70-4c6c-c0e2-db5e512f68a4"
      },
      "source": [
        "fruits"
      ],
      "execution_count": 18,
      "outputs": [
        {
          "output_type": "execute_result",
          "data": {
            "text/plain": [
              "['mango',\n",
              " 'apple',\n",
              " 'orange',\n",
              " 'pear',\n",
              " 'cherry',\n",
              " ['mango', 'apple', 'orange', 'pear', 'cherry'],\n",
              " 'mango',\n",
              " 'apple',\n",
              " 'orange',\n",
              " 10]"
            ]
          },
          "metadata": {},
          "execution_count": 18
        }
      ]
    },
    {
      "cell_type": "markdown",
      "metadata": {
        "id": "80DXMtWPKflx"
      },
      "source": [
        "You are going to write a program which will select a random name from a list of names. The person selected will have to pay for everybody's food bill. "
      ]
    },
    {
      "cell_type": "code",
      "metadata": {
        "colab": {
          "base_uri": "https://localhost:8080/"
        },
        "id": "jwTTneq0IHYk",
        "outputId": "3cd4eb96-ec5e-47eb-c7af-e4358ed4a53b"
      },
      "source": [
        "names_string = input(\"Give me everybody's names, separated by a comma: \")\n",
        "names = names_string.split(\",\")\n",
        "n=random.randint(0,5)\n",
        "print(names[n],\"is going to buy the meal today!\")\n"
      ],
      "execution_count": 48,
      "outputs": [
        {
          "output_type": "stream",
          "name": "stdout",
          "text": [
            "Give me everybody's names, separated by a comma: sam,sakthi,vijay,siva,arun,prakash\n",
            "sam is going to buy the meal today!\n"
          ]
        }
      ]
    },
    {
      "cell_type": "markdown",
      "metadata": {
        "id": "K0RcFKemLKAS"
      },
      "source": [
        "##Tuble\n",
        "\n",
        "#### tuble is immutable\n"
      ]
    },
    {
      "cell_type": "code",
      "metadata": {
        "id": "sdZhwua4KqtF"
      },
      "source": [
        "#list\n",
        "fruits=[\"mango\",'apple','orange','pear','cherry']\n",
        "fruits[0]='sam'"
      ],
      "execution_count": 50,
      "outputs": []
    },
    {
      "cell_type": "code",
      "metadata": {
        "colab": {
          "base_uri": "https://localhost:8080/"
        },
        "id": "ASkF8etfLaUc",
        "outputId": "91b015fb-428e-4d42-f000-b7885a283afc"
      },
      "source": [
        "fruits"
      ],
      "execution_count": 51,
      "outputs": [
        {
          "output_type": "execute_result",
          "data": {
            "text/plain": [
              "['sam', 'apple', 'orange', 'pear', 'cherry']"
            ]
          },
          "metadata": {},
          "execution_count": 51
        }
      ]
    },
    {
      "cell_type": "code",
      "metadata": {
        "colab": {
          "base_uri": "https://localhost:8080/",
          "height": 243
        },
        "id": "BPOzbLndLdq8",
        "outputId": "74c92484-bd95-419c-8dd2-6da35ed4b0d0"
      },
      "source": [
        "#tuble\n",
        "fruits=(\"mango\",'apple','orange','pear','cherry')\n",
        "fruits[0]='sam'\n",
        "\n",
        "#so tuble is immutable"
      ],
      "execution_count": 53,
      "outputs": [
        {
          "output_type": "error",
          "ename": "TypeError",
          "evalue": "ignored",
          "traceback": [
            "\u001b[0;31m---------------------------------------------------------------------------\u001b[0m",
            "\u001b[0;31mTypeError\u001b[0m                                 Traceback (most recent call last)",
            "\u001b[0;32m<ipython-input-53-8cbd81cff5d6>\u001b[0m in \u001b[0;36m<module>\u001b[0;34m()\u001b[0m\n\u001b[1;32m      1\u001b[0m \u001b[0;31m#tuble\u001b[0m\u001b[0;34m\u001b[0m\u001b[0;34m\u001b[0m\u001b[0;34m\u001b[0m\u001b[0m\n\u001b[1;32m      2\u001b[0m \u001b[0mfruits\u001b[0m\u001b[0;34m=\u001b[0m\u001b[0;34m(\u001b[0m\u001b[0;34m\"mango\"\u001b[0m\u001b[0;34m,\u001b[0m\u001b[0;34m'apple'\u001b[0m\u001b[0;34m,\u001b[0m\u001b[0;34m'orange'\u001b[0m\u001b[0;34m,\u001b[0m\u001b[0;34m'pear'\u001b[0m\u001b[0;34m,\u001b[0m\u001b[0;34m'cherry'\u001b[0m\u001b[0;34m)\u001b[0m\u001b[0;34m\u001b[0m\u001b[0;34m\u001b[0m\u001b[0m\n\u001b[0;32m----> 3\u001b[0;31m \u001b[0mfruits\u001b[0m\u001b[0;34m[\u001b[0m\u001b[0;36m0\u001b[0m\u001b[0;34m]\u001b[0m\u001b[0;34m=\u001b[0m\u001b[0;34m'sam'\u001b[0m\u001b[0;34m\u001b[0m\u001b[0;34m\u001b[0m\u001b[0m\n\u001b[0m\u001b[1;32m      4\u001b[0m \u001b[0;34m\u001b[0m\u001b[0m\n\u001b[1;32m      5\u001b[0m \u001b[0;31m#so tuble is immutable\u001b[0m\u001b[0;34m\u001b[0m\u001b[0;34m\u001b[0m\u001b[0;34m\u001b[0m\u001b[0m\n",
            "\u001b[0;31mTypeError\u001b[0m: 'tuple' object does not support item assignment"
          ]
        }
      ]
    },
    {
      "cell_type": "markdown",
      "metadata": {
        "id": "nAzj4ialO3av"
      },
      "source": [
        "##Operators\n",
        "\n",
        "### Arithmetic\n",
        "### Assignment\n",
        "### comparison\n",
        "### Logical\n",
        "### Identity\n",
        "### membership\n",
        "### Bitwise"
      ]
    },
    {
      "cell_type": "code",
      "metadata": {
        "id": "6lkqd6l9Pfy2"
      },
      "source": [
        ""
      ],
      "execution_count": null,
      "outputs": []
    }
  ]
}