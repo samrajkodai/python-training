{
  "nbformat": 4,
  "nbformat_minor": 0,
  "metadata": {
    "colab": {
      "name": "Copy of Day_4_python_training.ipynb",
      "provenance": [],
      "collapsed_sections": []
    },
    "kernelspec": {
      "name": "python3",
      "display_name": "Python 3"
    },
    "language_info": {
      "name": "python"
    }
  },
  "cells": [
    {
      "cell_type": "markdown",
      "metadata": {
        "id": "Q9pVKpR3VbSu"
      },
      "source": [
        "## SMTP (send email)\n",
        "\n",
        "Simple Mail Transfer Protocol\n"
      ]
    },
    {
      "cell_type": "code",
      "metadata": {
        "id": "LqQx1zo4R7Po"
      },
      "source": [
        "import smtplib\n",
        "\n",
        "my_email=\"pythontest9080@gmail.com\"\n",
        "password=\"samraj9080\"\n",
        "with smtplib.SMTP(\"smtp.gmail.com\",587) as connection:\n",
        "  connection.starttls()\n",
        "  connection.login(my_email,password)\n",
        "  connection.sendmail(from_addr=my_email,to_addrs=my_email,msg=\"how are yo?\")\n"
      ],
      "execution_count": null,
      "outputs": []
    },
    {
      "cell_type": "markdown",
      "metadata": {
        "id": "suNE-LPhg1Ic"
      },
      "source": [
        "###Date and Time"
      ]
    },
    {
      "cell_type": "code",
      "metadata": {
        "id": "8Po5vASzVOjU"
      },
      "source": [
        "import datetime as dt\n",
        "now=dt.datetime.now()"
      ],
      "execution_count": null,
      "outputs": []
    },
    {
      "cell_type": "code",
      "metadata": {
        "colab": {
          "base_uri": "https://localhost:8080/"
        },
        "id": "Ezbll79qWUFt",
        "outputId": "447c49c7-ac2d-45eb-f297-eb4063a2cbcc"
      },
      "source": [
        "print(f\"this year is {now.year}\")"
      ],
      "execution_count": null,
      "outputs": [
        {
          "output_type": "stream",
          "name": "stdout",
          "text": [
            "this year is 2021\n"
          ]
        }
      ]
    },
    {
      "cell_type": "code",
      "metadata": {
        "colab": {
          "base_uri": "https://localhost:8080/"
        },
        "id": "016Xr_seWW9h",
        "outputId": "4b8824a4-d553-40d4-e4e1-553143ab8cd5"
      },
      "source": [
        "print(f\"this month is {now.month}\")"
      ],
      "execution_count": null,
      "outputs": [
        {
          "output_type": "stream",
          "name": "stdout",
          "text": [
            "this month is 11\n"
          ]
        }
      ]
    },
    {
      "cell_type": "code",
      "metadata": {
        "colab": {
          "base_uri": "https://localhost:8080/"
        },
        "id": "BQk6nFU6ecWF",
        "outputId": "2e6d2059-1068-4180-8fa7-aaa2169ed989"
      },
      "source": [
        "print(f\"this weekday is {now.weekday()}\")"
      ],
      "execution_count": null,
      "outputs": [
        {
          "output_type": "stream",
          "name": "stdout",
          "text": [
            "this weekday is 4\n"
          ]
        }
      ]
    },
    {
      "cell_type": "code",
      "metadata": {
        "id": "Jr4pcrbjhuUY"
      },
      "source": [
        "birth_day=dt.datetime(year=2000,month=5,day=5)"
      ],
      "execution_count": null,
      "outputs": []
    },
    {
      "cell_type": "code",
      "metadata": {
        "colab": {
          "base_uri": "https://localhost:8080/"
        },
        "id": "Z_dm6vqWip5s",
        "outputId": "95d1f6b8-ea41-41f9-e280-95b8314b6b23"
      },
      "source": [
        "print(birth_day)"
      ],
      "execution_count": null,
      "outputs": [
        {
          "output_type": "stream",
          "name": "stdout",
          "text": [
            "2000-05-05 00:00:00\n"
          ]
        }
      ]
    },
    {
      "cell_type": "code",
      "metadata": {
        "colab": {
          "base_uri": "https://localhost:8080/",
          "height": 36
        },
        "id": "UgROj1Fvi5fe",
        "outputId": "77560062-64b2-47c1-a0ca-bd8743ac8f3d"
      },
      "source": [
        "birth_day.strftime(\"%D\")"
      ],
      "execution_count": null,
      "outputs": [
        {
          "output_type": "execute_result",
          "data": {
            "application/vnd.google.colaboratory.intrinsic+json": {
              "type": "string"
            },
            "text/plain": [
              "'05/05/00'"
            ]
          },
          "metadata": {},
          "execution_count": 199
        }
      ]
    },
    {
      "cell_type": "markdown",
      "metadata": {
        "id": "F1HS8PJyj9rR"
      },
      "source": [
        "### Monday Motivation Quotes "
      ]
    },
    {
      "cell_type": "code",
      "metadata": {
        "colab": {
          "base_uri": "https://localhost:8080/"
        },
        "id": "fGbFlTrAjdlR",
        "outputId": "56f6c75f-f523-4598-bb94-9accbdfd37db"
      },
      "source": [
        "import random\n",
        "import datetime as dt\n",
        "import smtplib\n",
        "\n",
        "\n",
        "my_email=\"pythontest9080@gmail.com\"\n",
        "password=\"samraj9080\"\n",
        "day=dt.datetime(2021,11,15)\n",
        "day=day.strftime(\"%A\").lower()\n",
        "send_day='Monday'\n",
        "\n",
        "if day.lower()==send_day.lower():\n",
        "  with open(\"/content/drive/MyDrive/Birthday+Wisher+(Day+32)+start/Birthday Wisher (Day 32) start/quotes.txt\",\"r+\") as file:\n",
        "    r=file.readlines()\n",
        "    msg=random.choice(r)\n",
        "  connect=smtplib.SMTP(\"smtp.gmail.com\",587)\n",
        "  connect.starttls()\n",
        "  connect.login(user=my_email,password=password)\n",
        "  connect.sendmail(from_addr=my_email,to_addrs=my_email,msg=f\"Subject:Monday Motivation \\n\\n{msg}\")\n",
        "  print(f\"your {day} quote is send successfull\")\n",
        "  connect.close()"
      ],
      "execution_count": null,
      "outputs": [
        {
          "output_type": "stream",
          "name": "stdout",
          "text": [
            "your monday quote is send successfull\n"
          ]
        }
      ]
    },
    {
      "cell_type": "markdown",
      "metadata": {
        "id": "3FVMOihnqqz8"
      },
      "source": [
        "### Birthday wishing\n"
      ]
    },
    {
      "cell_type": "code",
      "metadata": {
        "id": "ejy9-6TBm6iW"
      },
      "source": [
        "import pandas as pd\n",
        "\n",
        "df=pd.read_csv(\"/content/drive/MyDrive/birthday-wisher-hard-start/birthdays.csv\")"
      ],
      "execution_count": null,
      "outputs": []
    },
    {
      "cell_type": "code",
      "metadata": {
        "colab": {
          "base_uri": "https://localhost:8080/",
          "height": 112
        },
        "id": "bMOBAdZwq-7L",
        "outputId": "a9ad1dd3-0f16-4058-bb18-f90e768c3d61"
      },
      "source": [
        "df"
      ],
      "execution_count": null,
      "outputs": [
        {
          "output_type": "execute_result",
          "data": {
            "text/html": [
              "<div>\n",
              "<style scoped>\n",
              "    .dataframe tbody tr th:only-of-type {\n",
              "        vertical-align: middle;\n",
              "    }\n",
              "\n",
              "    .dataframe tbody tr th {\n",
              "        vertical-align: top;\n",
              "    }\n",
              "\n",
              "    .dataframe thead th {\n",
              "        text-align: right;\n",
              "    }\n",
              "</style>\n",
              "<table border=\"1\" class=\"dataframe\">\n",
              "  <thead>\n",
              "    <tr style=\"text-align: right;\">\n",
              "      <th></th>\n",
              "      <th>name</th>\n",
              "      <th>email</th>\n",
              "      <th>year</th>\n",
              "      <th>month</th>\n",
              "      <th>day</th>\n",
              "    </tr>\n",
              "  </thead>\n",
              "  <tbody>\n",
              "    <tr>\n",
              "      <th>0</th>\n",
              "      <td>Test</td>\n",
              "      <td>test@email.com</td>\n",
              "      <td>1961.0</td>\n",
              "      <td>12.0</td>\n",
              "      <td>21.0</td>\n",
              "    </tr>\n",
              "    <tr>\n",
              "      <th>1</th>\n",
              "      <td>[Fill this in!]</td>\n",
              "      <td>NaN</td>\n",
              "      <td>NaN</td>\n",
              "      <td>NaN</td>\n",
              "      <td>NaN</td>\n",
              "    </tr>\n",
              "  </tbody>\n",
              "</table>\n",
              "</div>"
            ],
            "text/plain": [
              "              name           email    year  month   day\n",
              "0             Test  test@email.com  1961.0   12.0  21.0\n",
              "1  [Fill this in!]             NaN     NaN    NaN   NaN"
            ]
          },
          "metadata": {},
          "execution_count": 202
        }
      ]
    },
    {
      "cell_type": "code",
      "metadata": {
        "id": "yRM--y_krACV"
      },
      "source": [
        "df.iloc[1]=['sam',\"samcse04335h@gmail.com\",\"2020\",11,12]\n",
        "df.iloc[0]=['arun',my_email,\"2000\",11,13]\n",
        "\n"
      ],
      "execution_count": null,
      "outputs": []
    },
    {
      "cell_type": "code",
      "metadata": {
        "colab": {
          "base_uri": "https://localhost:8080/",
          "height": 112
        },
        "id": "G1QkbxJnrfEo",
        "outputId": "4c084ee8-dcab-439d-f014-4d0f90a465eb"
      },
      "source": [
        "df"
      ],
      "execution_count": null,
      "outputs": [
        {
          "output_type": "execute_result",
          "data": {
            "text/html": [
              "<div>\n",
              "<style scoped>\n",
              "    .dataframe tbody tr th:only-of-type {\n",
              "        vertical-align: middle;\n",
              "    }\n",
              "\n",
              "    .dataframe tbody tr th {\n",
              "        vertical-align: top;\n",
              "    }\n",
              "\n",
              "    .dataframe thead th {\n",
              "        text-align: right;\n",
              "    }\n",
              "</style>\n",
              "<table border=\"1\" class=\"dataframe\">\n",
              "  <thead>\n",
              "    <tr style=\"text-align: right;\">\n",
              "      <th></th>\n",
              "      <th>name</th>\n",
              "      <th>email</th>\n",
              "      <th>year</th>\n",
              "      <th>month</th>\n",
              "      <th>day</th>\n",
              "    </tr>\n",
              "  </thead>\n",
              "  <tbody>\n",
              "    <tr>\n",
              "      <th>0</th>\n",
              "      <td>arun</td>\n",
              "      <td>pythontest9080@gmail.com</td>\n",
              "      <td>2000</td>\n",
              "      <td>11.0</td>\n",
              "      <td>13.0</td>\n",
              "    </tr>\n",
              "    <tr>\n",
              "      <th>1</th>\n",
              "      <td>sam</td>\n",
              "      <td>samcse04335h@gmail.com</td>\n",
              "      <td>2020</td>\n",
              "      <td>11.0</td>\n",
              "      <td>12.0</td>\n",
              "    </tr>\n",
              "  </tbody>\n",
              "</table>\n",
              "</div>"
            ],
            "text/plain": [
              "   name                     email  year  month   day\n",
              "0  arun  pythontest9080@gmail.com  2000   11.0  13.0\n",
              "1   sam    samcse04335h@gmail.com  2020   11.0  12.0"
            ]
          },
          "metadata": {},
          "execution_count": 204
        }
      ]
    },
    {
      "cell_type": "code",
      "metadata": {
        "colab": {
          "base_uri": "https://localhost:8080/"
        },
        "id": "bEZcESTxs3cK",
        "outputId": "5bd0d4b6-c7b5-4d08-f546-6f1e2eba01b0"
      },
      "source": [
        "actual_day=dt.datetime.now()\n",
        "year=actual_day.year\n",
        "month=actual_day.month\n",
        "day=actual_day.day\n",
        "\n",
        "for i in range(0,len(df)):\n",
        "    if (month==df['month'][i] and day==df['day'][i]):\n",
        "      name=df['name'][i]\n",
        "      to_addr=df['email'][i]\n",
        "\n",
        "      letter=os.listdir(\"/content/drive/MyDrive/birthday-wisher-hard-start/letter_templates\")\n",
        "      fin=random.choice(letter)\n",
        "      fin=f\"/content/drive/MyDrive/birthday-wisher-hard-start/letter_templates/{fin}\"\n",
        "\n",
        "      with open(fin,\"r+\") as file:\n",
        "        res=file.read()\n",
        "        res=res.strip()\n",
        "        new_letter=res.replace(\"[NAME]\",name)\n",
        "        print(new_letter)\n",
        "\n",
        "      connect=smtplib.SMTP(\"smtp.gmail.com\",587)\n",
        "      connect.starttls()\n",
        "      connect.login(user=my_email,password=password)\n",
        "      connect.sendmail(from_addr=my_email,to_addrs=to_addr,msg=f\"subject:Happy Birthday {new_letter}\")\n",
        "\n",
        "\n",
        "\n",
        "\n",
        "  "
      ],
      "execution_count": null,
      "outputs": [
        {
          "output_type": "stream",
          "name": "stdout",
          "text": [
            "Hey sam,\n",
            "\n",
            "Happy birthday! Have a wonderful time today and eat lots of cake!\n",
            "\n",
            "Lots of love,\n",
            "\n",
            "Angela\n"
          ]
        }
      ]
    },
    {
      "cell_type": "markdown",
      "metadata": {
        "id": "eViv4gEPCVSp"
      },
      "source": [
        "## API end points and API parameters\n",
        "\n",
        "## API:\n",
        "        Application programming interface is a set of commands functions,protocols and objects that programmers used to create software or interace with an external system."
      ]
    },
    {
      "cell_type": "markdown",
      "metadata": {
        "id": "GFkNm9UwDH1n"
      },
      "source": [
        "### JSON\n",
        "\n",
        "###### JSON is mainly used for transferring a data between browser and server."
      ]
    },
    {
      "cell_type": "code",
      "metadata": {
        "colab": {
          "base_uri": "https://localhost:8080/"
        },
        "id": "fBF4iP1p0JR6",
        "outputId": "5f4ea7ee-ea8c-460b-c2c2-8e9cd512a1fc"
      },
      "source": [
        "{\n",
        "  \"name\":\"sam\",\n",
        "  \"age\":21,\n",
        "  \"loation\":\"kodaikanal\"\n",
        "}"
      ],
      "execution_count": null,
      "outputs": [
        {
          "output_type": "execute_result",
          "data": {
            "text/plain": [
              "{'age': 21, 'loation': 'kodaikanal', 'name': 'sam'}"
            ]
          },
          "metadata": {},
          "execution_count": 209
        }
      ]
    },
    {
      "cell_type": "code",
      "metadata": {
        "id": "xkxXMAT0E4Pm"
      },
      "source": [
        "import requests"
      ],
      "execution_count": null,
      "outputs": []
    },
    {
      "cell_type": "code",
      "metadata": {
        "id": "q4Uvl3yHFT0B"
      },
      "source": [
        "response=requests.get(url=\"http://api.plos.org/search?q=title:DNA\")"
      ],
      "execution_count": null,
      "outputs": []
    },
    {
      "cell_type": "code",
      "metadata": {
        "colab": {
          "base_uri": "https://localhost:8080/"
        },
        "id": "k6wrr1NvFnAR",
        "outputId": "e887a656-2d43-441f-f4ed-621a1ddb4827"
      },
      "source": [
        "\n",
        "print(response.status_code)"
      ],
      "execution_count": null,
      "outputs": [
        {
          "output_type": "stream",
          "name": "stdout",
          "text": [
            "200\n"
          ]
        }
      ]
    },
    {
      "cell_type": "code",
      "metadata": {
        "id": "Nzogi6trGjpo"
      },
      "source": [
        "response.raise_for_status()"
      ],
      "execution_count": null,
      "outputs": []
    },
    {
      "cell_type": "code",
      "metadata": {
        "colab": {
          "base_uri": "https://localhost:8080/"
        },
        "id": "tK0OJhrgHz1H",
        "outputId": "551ab8b9-8d20-47c7-a1b9-5e1030e319d2"
      },
      "source": [
        "data=response.json()\n",
        "print(data)"
      ],
      "execution_count": null,
      "outputs": [
        {
          "output_type": "stream",
          "name": "stdout",
          "text": [
            "{'response': {'numFound': 5506, 'start': 0, 'maxScore': 6.5585923, 'docs': [{'id': '10.1371/journal.pone.0000290', 'journal': 'PLoS ONE', 'eissn': '1932-6203', 'publication_date': '2007-03-14T00:00:00Z', 'article_type': 'Research Article', 'author_display': ['Rayna I. Kraeva', 'Dragomir B. Krastev', 'Assen Roguev', 'Anna Ivanova', 'Marina N. Nedelcheva-Veleva', 'Stoyno S. Stoynov'], 'abstract': ['Nucleic acids, due to their structural and chemical properties, can form double-stranded secondary structures that assist the transfer of genetic information and can modulate gene expression. However, the nucleotide sequence alone is insufficient in explaining phenomena like intron-exon recognition during RNA processing. This raises the question whether nucleic acids are endowed with other attributes that can contribute to their biological functions. In this work, we present a calculation of thermodynamic stability of DNA/DNA and mRNA/DNA duplexes across the genomes of four species in the genus Saccharomyces by nearest-neighbor method. The results show that coding regions are more thermodynamically stable than introns, 3′-untranslated regions and intergenic sequences. Furthermore, open reading frames have more stable sense mRNA/DNA duplexes than the potential antisense duplexes, a property that can aid gene discovery. The lower stability of the DNA/DNA and mRNA/DNA duplexes of 3′-untranslated regions and the higher stability of genes correlates with increased mRNA level. These results suggest that the thermodynamic stability of DNA/DNA and mRNA/DNA duplexes affects mRNA transcription.'], 'title_display': 'Stability of mRNA/DNA and DNA/DNA Duplexes Affects mRNA Transcription', 'score': 6.5585923}, {'id': '10.1371/journal.pone.0154785', 'journal': 'PLOS ONE', 'eissn': '1932-6203', 'publication_date': '2016-05-04T00:00:00Z', 'article_type': 'Research Article', 'author_display': ['Choon Seok Oh', 'Jean Sippy', 'Bridget Charbonneau', 'Jennifer Crow Hutchinson', 'Olga Esther Mejia-Romero', 'Michael Barton', 'Priyal Patel', 'Rachel Sippy', 'Michael Feiss'], 'abstract': ['\\nDuring progeny assembly, viruses selectively package virion genomes from a nucleic acid pool that includes host nucleic acids. For large dsDNA viruses, including tailed bacteriophages and herpesviruses, immature viral DNA is recognized and translocated into a preformed icosahedral shell, the prohead. Recognition involves specific interactions between the viral packaging enzyme, terminase, and viral DNA recognition sites. Generally, viral DNA is recognized by terminase’s small subunit (TerS). The large terminase subunit (TerL) contains translocation ATPase and endonuclease domains. In phage lambda, TerS binds a sequence repeated three times in cosB, the recognition site. TerS binding to cosB positions TerL to cut the concatemeric DNA at the adjacent nicking site, cosN. TerL introduces staggered nicks in cosN, generating twelve bp cohesive ends. Terminase separates the cohesive ends and remains bound to the cosB-containing end, in a nucleoprotein structure called Complex I. Complex I docks on the prohead’s portal vertex and translocation ensues. DNA topology plays a role in the TerSλ-cosBλ interaction. Here we show that a site, I2, located between cosN and cosB, is critically important for an early DNA packaging step. I2 contains a complex static bend. I2 mutations block DNA packaging. I2 mutant DNA is cut by terminase at cosN in vitro, but in vivo, no cos cleavage is detected, nor is there evidence for Complex I. Models for what packaging step might be blocked by I2 mutations are presented.\\n'], 'title_display': 'DNA Topology and the Initiation of Virus DNA Packaging', 'score': 6.3214874}, {'id': '10.1371/journal.pone.0047101', 'journal': 'PLoS ONE', 'eissn': '1932-6203', 'publication_date': '2012-11-08T00:00:00Z', 'article_type': 'Research Article', 'author_display': ['Sheng-Yu Wang', 'Yueh-Luen Lee', 'Yi-Hua Lai', 'Jeremy J. W. Chen', 'Wen-Lin Wu', 'Jeu-Ming P. Yuann', 'Wang-Lin Su', 'Show-Mei Chuang', 'Ming-Hon Hou'], 'abstract': ['\\n        The anticancer activity of DNA intercalators is related to their ability to intercalate into the DNA duplex with high affinity, thereby interfering with DNA replication and transcription. Polyamines (spermine in particular) are almost exclusively bound to nucleic acids and are involved in many cellular processes that require nucleic acids. Until now, the effects of polyamines on DNA intercalator activities have remained unclear because intercalation is the most important mechanism employed by DNA-binding drugs. Herein, using actinomycin D (ACTD) as a model, we have attempted to elucidate the effects of spermine on the action of ACTD, including its DNA-binding ability, RNA and DNA polymerase interference, and its role in the transcription and replication inhibition of ACTD within cells. We found that spermine interfered with the binding and stabilization of ACTD to DNA. The presence of increasing concentrations of spermine enhanced the transcriptional and replication activities of RNA and DNA polymerases, respectively, in vitro treated with ActD. Moreover, a decrease in intracellular polyamine concentrations stimulated by methylglyoxal-bis(guanylhydrazone) (MGBG) enhanced the ACTD-induced inhibition of c-myc transcription and DNA replication in several cancer cell lines. The results indicated that spermine attenuates ACTD binding to DNA and its inhibition of transcription and DNA replication both in vitro and within cells. Finally, a synergistic antiproliferative effect of MGBG and ACTD was observed in a cell viability assay. Our findings will be of significant relevance to future developments in combination with cancer therapy by enhancing the anticancer activity of DNA interactors through polyamine depletion.\\n      '], 'title_display': 'Spermine Attenuates the Action of the DNA Intercalator, Actinomycin D, on DNA Binding and the Inhibition of Transcription and DNA Replication', 'score': 6.1974297}, {'id': '10.1371/journal.pbio.0020173', 'journal': 'PLoS Biology', 'eissn': '1545-7885', 'publication_date': '2004-06-22T00:00:00Z', 'article_type': 'Research Article', 'author_display': ['David R Halpin', 'Pehr B Harbury'], 'abstract': ['\\n        Recently reported technologies for DNA-directed organic synthesis and for DNA computing rely on routing DNA populations through complex networks. The reduction of these ideas to practice has been limited by a lack of practical experimental tools. Here we describe a modular design for DNA routing genes, and routing machinery made from oligonucleotides and commercially available chromatography resins. The routing machinery partitions nanomole quantities of DNA into physically distinct subpools based on sequence. Partitioning steps can be iterated indefinitely, with worst-case yields of 85% per step. These techniques facilitate DNA-programmed chemical synthesis, and thus enable a materials biology that could revolutionize drug discovery.\\n      \\n        Resin-linked oligonucleotides are described that efficiently partition subpools of DNA based on sequence, enabling DNA- programmed chemical synthesis.\\n      '], 'title_display': 'DNA Display I. Sequence-Encoded Routing of DNA Populations', 'score': 6.1488004}, {'id': '10.1371/journal.pgen.0030110', 'journal': 'PLoS Genetics', 'eissn': '1553-7404', 'publication_date': '2007-07-06T00:00:00Z', 'article_type': 'Research Article', 'author_display': ['Concetta Cuozzo', 'Antonio Porcellini', 'Tiziana Angrisano', 'Annalisa Morano', 'Bongyong Lee', 'Alba Di Pardo', 'Samantha Messina', 'Rodolfo Iuliano', 'Alfredo Fusco', 'Maria R Santillo', 'Mark T Muller', 'Lorenzo Chiariotti', 'Max E Gottesman', 'Enrico V Avvedimento'], 'abstract': ['To explore the link between DNA damage and gene silencing, we induced a DNA double-strand break in the genome of Hela or mouse embryonic stem (ES) cells using I-SceI restriction endonuclease. The I-SceI site lies within one copy of two inactivated tandem repeated green fluorescent protein (GFP) genes (DR-GFP). A total of 2%–4% of the cells generated a functional GFP by homology-directed repair (HR) and gene conversion. However, ~50% of these recombinants expressed GFP poorly. Silencing was rapid and associated with HR and DNA methylation of the recombinant gene, since it was prevented in Hela cells by 5-aza-2′-deoxycytidine. ES cells deficient in DNA methyl transferase 1 yielded as many recombinants as wild-type cells, but most of these recombinants expressed GFP robustly. Half of the HR DNA molecules were de novo methylated, principally downstream to the double-strand break, and half were undermethylated relative to the uncut DNA. Methylation of the repaired gene was independent of the methylation status of the converting template. The methylation pattern of recombinant molecules derived from pools of cells carrying DR-GFP at different loci, or from an individual clone carrying DR-GFP at a single locus, was comparable. ClustalW analysis of the sequenced GFP molecules in Hela and ES cells distinguished recombinant and nonrecombinant DNA solely on the basis of their methylation profile and indicated that HR superimposed novel methylation profiles on top of the old patterns. Chromatin immunoprecipitation and RNA analysis revealed that DNA methyl transferase 1 was bound specifically to HR GFP DNA and that methylation of the repaired segment contributed to the silencing of GFP expression. Taken together, our data support a mechanistic link between HR and DNA methylation and suggest that DNA methylation in eukaryotes marks homologous recombined segments.: Genomic DNA can be modified by cytosine methylation. This epigenetic modification is layered on the primary genetic information and can silence the affected gene. Epigenetic modification has been implicated in cancer and aging. To date, the primary cause and the mechanism leading to DNA methylation are not known. By using a sophisticated genetic system, we have induced a single break in the double helix of the genomes of mouse or human cells. This rupture was repaired by a very precise mechanism: the damaged chromosome pairs and retrieves genetic information from an undamaged and homologous DNA partner. This homology-directed repair was marked in half of the repaired molecules by de novo methylation of cytosines flanking the cut. As a direct consequence, the gene in these repaired molecules was silenced. In the remaining molecules, the recombinant DNA was undermethylated and expressed the reconstituted gene. Since homology-directed repair may duplicate or delete genetic information, epigenetic modification of repaired DNA represents a powerful evolutionary force. If the expression of the repaired gene is harmful, only cells inheriting the silenced copy will survive. Conversely, if the function of the repaired gene is beneficial, cells inheriting the under-methylated copy will have a selective advantage. '], 'title_display': 'DNA Damage, Homology-Directed Repair, and DNA Methylation', 'score': 6.1488004}, {'id': '10.1371/annotation/254cef67-ab0e-43f6-af62-8f7df7c3677c', 'journal': 'PLoS ONE', 'eissn': '1932-6203', 'publication_date': '2013-05-15T00:00:00Z', 'article_type': 'Correction', 'author_display': ['Sheng-Yu Wang', 'Alan Yueh-Luen Lee', 'Yi-Hua Lai', 'Jeremy J. W. Chen', 'Wen-Lin Wu', 'Jeu-Ming P. Yuann', 'Wang-Lin Su', 'Show-Mei Chuang', 'Ming-Hon Hou'], 'abstract': [''], 'title_display': 'Correction: Spermine Attenuates the Action of the DNA Intercalator, Actinomycin D, on DNA Binding and the Inhibition of Transcription and DNA Replication', 'score': 6.0857224}, {'id': '10.1371/journal.pone.0124444', 'journal': 'PLOS ONE', 'eissn': '1932-6203', 'publication_date': '2015-04-29T00:00:00Z', 'article_type': 'Research Article', 'author_display': ['Josef Štěpánek', 'Vladimír Kopecký Jr.', 'Pierre-Yves Turpin', 'Zhenlin Li', 'Bernard Alpert', 'Christian Zentz'], 'abstract': ['\\nThe transcriptional activity of the serum response factor (SRF) protein is triggered by its binding to a 10-base-pair DNA consensus sequence designated the CArG box, which is the core sequence of the serum response element (SRE). Sequence-specific recognition of the CArG box by a core domain of 100 amino acid residues of SRF (core-SRF) was asserted to depend almost exclusively on the intrinsic SRE conformation and on the degree of protein-induced SRE bending. Nevertheless, this paradigm was invalidated by a temperature-dependent Raman spectroscopy study of 20-mer oligonucleotides involved in bonding interactions with core-SRF that reproduced both wild type and mutated c-fos SREs. Indeed, the SRE moieties that are complexed with core-SRF exhibit permanent interconversion dynamics between bent and linear conformers. Thus, sequence-specific recognition of the CArG box by core-SRF cannot be explained only in terms of the three-dimensional structure of the SRE. A particular dynamic pairing process discriminates between the wild type and mutated complexes. Specific oscillations of the phosphate charge network of the SRE govern the recognition between both partners rather than an intrinsic set of conformations of the SRE.\\n'], 'title_display': 'DNA Electric Charge Oscillations Govern Protein–DNA Recognition', 'score': 5.985297}, {'id': '10.1371/journal.pone.0177147', 'journal': 'PLOS ONE', 'eissn': '1932-6203', 'publication_date': '2017-05-03T00:00:00Z', 'article_type': 'Research Article', 'author_display': ['Irina Bruck', 'Nalini Dhingra', 'Matthew P. Martinez', 'Daniel L. Kaplan'], 'abstract': ['\\nDpb11 is required for the initiation of DNA replication in budding yeast. We found that Dpb11 binds tightly to single-stranded DNA (ssDNA) or branched DNA structures, while its human homolog, TopBP1, binds tightly to branched-DNA structures. We also found that Dpb11 binds stably to CDK-phosphorylated RPA, the eukaryotic ssDNA binding protein, in the presence of branched DNA. A Dpb11 mutant specifically defective for DNA binding did not exhibit tight binding to RPA in the presence of DNA, suggesting that Dpb11-interaction with DNA may promote the recruitment of RPA to melted DNA. We then characterized a mutant of Dpb11 that is specifically defective in DNA binding in budding yeast cells. Expression of dpb11-m1,2,3,5,ΔC results in a substantial decrease in RPA recruitment to origins, suggesting that Dpb11 interaction with DNA may be required for RPA recruitment to origins. Expression of dpb11-m1,2,3,5,ΔC also results in diminished GINS interaction with Mcm2-7 during S phase, while Cdc45 interaction with Mcm2-7 is like wild-type. The reduced GINS interaction with Mcm2-7 may be an indirect consequence of diminished origin melting. We propose that the tight interaction between Dpb11, CDK-phosphorylated RPA, and branched-DNA may be required for the essential function of stabilizing melted origin DNA in vivo. We also propose an alternative model, wherein Dpb11-DNA interaction is required for some other function in DNA replication initiation, such as helicase activation.\\n'], 'title_display': 'Dpb11 may function with RPA and DNA to initiate DNA replication', 'score': 5.985297}, {'id': '10.1371/journal.pgen.1006605', 'journal': 'PLOS Genetics', 'eissn': '1553-7404', 'publication_date': '2017-02-10T00:00:00Z', 'article_type': 'Correction', 'author_display': ['Concetta Cuozzo', 'Antonio Porcellini', 'Tiziana Angrisano', 'Annalisa Morano', 'Bongyong Lee', 'Alba Di Pardo', 'Samantha Messina', 'Rodolfo Iuliano', 'Alfredo Fusco', 'Maria R. Santillo', 'Mark T. Muller', 'Lorenzo Chiariotti', 'Max E. Gottesman', 'Enrico V. Avvedimento'], 'abstract': [''], 'title_display': 'Correction: DNA Damage, Homology-Directed Repair, and DNA Methylation', 'score': 5.985297}, {'id': '10.1371/journal.pone.0180798', 'journal': 'PLOS ONE', 'eissn': '1932-6203', 'publication_date': '2017-07-12T00:00:00Z', 'article_type': 'Research Article', 'author_display': ['Lukas Nejdl', 'Jiri Kudr', 'Amitava Moulick', 'Dagmar Hegerova', 'Branislav Ruttkay-Nedecky', 'Jaromir Gumulec', 'Kristyna Cihalova', 'Kristyna Smerkova', 'Simona Dostalova', 'Sona Krizkova', 'Marie Novotna', 'Pavel Kopel', 'Vojtech Adam'], 'abstract': ['\\nSparsely tested group of platinum nanoparticles (PtNPs) may have a comparable effect as complex platinum compounds. The aim of this study was to observe the effect of PtNPs in in vitro amplification of DNA fragment of phage λ, on the bacterial cultures (Staphylococcus aureus), human foreskin fibroblasts and erythrocytes. In vitro synthesized PtNPs were characterized by dynamic light scattering (PtNPs size range 4.8–11.7 nm), zeta potential measurements (-15 mV at pH 7.4), X-ray fluorescence, UV/vis spectrophotometry and atomic absorption spectrometry. The PtNPs inhibited the DNA replication and affected the secondary structure of DNA at higher concentrations, which was confirmed by polymerase chain reaction, DNA sequencing and DNA denaturation experiments. Further, cisplatin (CisPt), as traditional chemotherapy agent, was used in all parallel experiments. Moreover, the encapsulation of PtNPs in liposomes (LipoPtNPs) caused an approximately 2.4x higher of DNA damage in comparison with CisPt, LipoCisPt and PtNPs. The encapsulation of PtNPs in liposomes also increased their antibacterial, cytostatic and cytotoxic effect, which was determined by the method of growth curves on S. aureus and HFF cells. In addition, both the bare and encapsulated PtNPs caused lower oxidative stress (determined by GSH/GSSG ratio) in the human erythrocytes compared to the bare and encapsulated CisPt. CisPt was used in all parallel experiments as traditional chemotherapy agent.\\n'], 'title_display': 'Platinum nanoparticles induce damage to DNA and inhibit DNA replication', 'score': 5.985297}]}}\n"
          ]
        }
      ]
    },
    {
      "cell_type": "code",
      "metadata": {
        "colab": {
          "base_uri": "https://localhost:8080/"
        },
        "id": "690KFX_YIRxQ",
        "outputId": "aaa2a8aa-ccad-4c2d-e574-67cadbec3ce9"
      },
      "source": [
        "print(data['response']['docs'])"
      ],
      "execution_count": null,
      "outputs": [
        {
          "output_type": "stream",
          "name": "stdout",
          "text": [
            "[{'id': '10.1371/journal.pone.0000290', 'journal': 'PLoS ONE', 'eissn': '1932-6203', 'publication_date': '2007-03-14T00:00:00Z', 'article_type': 'Research Article', 'author_display': ['Rayna I. Kraeva', 'Dragomir B. Krastev', 'Assen Roguev', 'Anna Ivanova', 'Marina N. Nedelcheva-Veleva', 'Stoyno S. Stoynov'], 'abstract': ['Nucleic acids, due to their structural and chemical properties, can form double-stranded secondary structures that assist the transfer of genetic information and can modulate gene expression. However, the nucleotide sequence alone is insufficient in explaining phenomena like intron-exon recognition during RNA processing. This raises the question whether nucleic acids are endowed with other attributes that can contribute to their biological functions. In this work, we present a calculation of thermodynamic stability of DNA/DNA and mRNA/DNA duplexes across the genomes of four species in the genus Saccharomyces by nearest-neighbor method. The results show that coding regions are more thermodynamically stable than introns, 3′-untranslated regions and intergenic sequences. Furthermore, open reading frames have more stable sense mRNA/DNA duplexes than the potential antisense duplexes, a property that can aid gene discovery. The lower stability of the DNA/DNA and mRNA/DNA duplexes of 3′-untranslated regions and the higher stability of genes correlates with increased mRNA level. These results suggest that the thermodynamic stability of DNA/DNA and mRNA/DNA duplexes affects mRNA transcription.'], 'title_display': 'Stability of mRNA/DNA and DNA/DNA Duplexes Affects mRNA Transcription', 'score': 6.5585923}, {'id': '10.1371/journal.pone.0154785', 'journal': 'PLOS ONE', 'eissn': '1932-6203', 'publication_date': '2016-05-04T00:00:00Z', 'article_type': 'Research Article', 'author_display': ['Choon Seok Oh', 'Jean Sippy', 'Bridget Charbonneau', 'Jennifer Crow Hutchinson', 'Olga Esther Mejia-Romero', 'Michael Barton', 'Priyal Patel', 'Rachel Sippy', 'Michael Feiss'], 'abstract': ['\\nDuring progeny assembly, viruses selectively package virion genomes from a nucleic acid pool that includes host nucleic acids. For large dsDNA viruses, including tailed bacteriophages and herpesviruses, immature viral DNA is recognized and translocated into a preformed icosahedral shell, the prohead. Recognition involves specific interactions between the viral packaging enzyme, terminase, and viral DNA recognition sites. Generally, viral DNA is recognized by terminase’s small subunit (TerS). The large terminase subunit (TerL) contains translocation ATPase and endonuclease domains. In phage lambda, TerS binds a sequence repeated three times in cosB, the recognition site. TerS binding to cosB positions TerL to cut the concatemeric DNA at the adjacent nicking site, cosN. TerL introduces staggered nicks in cosN, generating twelve bp cohesive ends. Terminase separates the cohesive ends and remains bound to the cosB-containing end, in a nucleoprotein structure called Complex I. Complex I docks on the prohead’s portal vertex and translocation ensues. DNA topology plays a role in the TerSλ-cosBλ interaction. Here we show that a site, I2, located between cosN and cosB, is critically important for an early DNA packaging step. I2 contains a complex static bend. I2 mutations block DNA packaging. I2 mutant DNA is cut by terminase at cosN in vitro, but in vivo, no cos cleavage is detected, nor is there evidence for Complex I. Models for what packaging step might be blocked by I2 mutations are presented.\\n'], 'title_display': 'DNA Topology and the Initiation of Virus DNA Packaging', 'score': 6.3214874}, {'id': '10.1371/journal.pone.0047101', 'journal': 'PLoS ONE', 'eissn': '1932-6203', 'publication_date': '2012-11-08T00:00:00Z', 'article_type': 'Research Article', 'author_display': ['Sheng-Yu Wang', 'Yueh-Luen Lee', 'Yi-Hua Lai', 'Jeremy J. W. Chen', 'Wen-Lin Wu', 'Jeu-Ming P. Yuann', 'Wang-Lin Su', 'Show-Mei Chuang', 'Ming-Hon Hou'], 'abstract': ['\\n        The anticancer activity of DNA intercalators is related to their ability to intercalate into the DNA duplex with high affinity, thereby interfering with DNA replication and transcription. Polyamines (spermine in particular) are almost exclusively bound to nucleic acids and are involved in many cellular processes that require nucleic acids. Until now, the effects of polyamines on DNA intercalator activities have remained unclear because intercalation is the most important mechanism employed by DNA-binding drugs. Herein, using actinomycin D (ACTD) as a model, we have attempted to elucidate the effects of spermine on the action of ACTD, including its DNA-binding ability, RNA and DNA polymerase interference, and its role in the transcription and replication inhibition of ACTD within cells. We found that spermine interfered with the binding and stabilization of ACTD to DNA. The presence of increasing concentrations of spermine enhanced the transcriptional and replication activities of RNA and DNA polymerases, respectively, in vitro treated with ActD. Moreover, a decrease in intracellular polyamine concentrations stimulated by methylglyoxal-bis(guanylhydrazone) (MGBG) enhanced the ACTD-induced inhibition of c-myc transcription and DNA replication in several cancer cell lines. The results indicated that spermine attenuates ACTD binding to DNA and its inhibition of transcription and DNA replication both in vitro and within cells. Finally, a synergistic antiproliferative effect of MGBG and ACTD was observed in a cell viability assay. Our findings will be of significant relevance to future developments in combination with cancer therapy by enhancing the anticancer activity of DNA interactors through polyamine depletion.\\n      '], 'title_display': 'Spermine Attenuates the Action of the DNA Intercalator, Actinomycin D, on DNA Binding and the Inhibition of Transcription and DNA Replication', 'score': 6.1974297}, {'id': '10.1371/journal.pbio.0020173', 'journal': 'PLoS Biology', 'eissn': '1545-7885', 'publication_date': '2004-06-22T00:00:00Z', 'article_type': 'Research Article', 'author_display': ['David R Halpin', 'Pehr B Harbury'], 'abstract': ['\\n        Recently reported technologies for DNA-directed organic synthesis and for DNA computing rely on routing DNA populations through complex networks. The reduction of these ideas to practice has been limited by a lack of practical experimental tools. Here we describe a modular design for DNA routing genes, and routing machinery made from oligonucleotides and commercially available chromatography resins. The routing machinery partitions nanomole quantities of DNA into physically distinct subpools based on sequence. Partitioning steps can be iterated indefinitely, with worst-case yields of 85% per step. These techniques facilitate DNA-programmed chemical synthesis, and thus enable a materials biology that could revolutionize drug discovery.\\n      \\n        Resin-linked oligonucleotides are described that efficiently partition subpools of DNA based on sequence, enabling DNA- programmed chemical synthesis.\\n      '], 'title_display': 'DNA Display I. Sequence-Encoded Routing of DNA Populations', 'score': 6.1488004}, {'id': '10.1371/journal.pgen.0030110', 'journal': 'PLoS Genetics', 'eissn': '1553-7404', 'publication_date': '2007-07-06T00:00:00Z', 'article_type': 'Research Article', 'author_display': ['Concetta Cuozzo', 'Antonio Porcellini', 'Tiziana Angrisano', 'Annalisa Morano', 'Bongyong Lee', 'Alba Di Pardo', 'Samantha Messina', 'Rodolfo Iuliano', 'Alfredo Fusco', 'Maria R Santillo', 'Mark T Muller', 'Lorenzo Chiariotti', 'Max E Gottesman', 'Enrico V Avvedimento'], 'abstract': ['To explore the link between DNA damage and gene silencing, we induced a DNA double-strand break in the genome of Hela or mouse embryonic stem (ES) cells using I-SceI restriction endonuclease. The I-SceI site lies within one copy of two inactivated tandem repeated green fluorescent protein (GFP) genes (DR-GFP). A total of 2%–4% of the cells generated a functional GFP by homology-directed repair (HR) and gene conversion. However, ~50% of these recombinants expressed GFP poorly. Silencing was rapid and associated with HR and DNA methylation of the recombinant gene, since it was prevented in Hela cells by 5-aza-2′-deoxycytidine. ES cells deficient in DNA methyl transferase 1 yielded as many recombinants as wild-type cells, but most of these recombinants expressed GFP robustly. Half of the HR DNA molecules were de novo methylated, principally downstream to the double-strand break, and half were undermethylated relative to the uncut DNA. Methylation of the repaired gene was independent of the methylation status of the converting template. The methylation pattern of recombinant molecules derived from pools of cells carrying DR-GFP at different loci, or from an individual clone carrying DR-GFP at a single locus, was comparable. ClustalW analysis of the sequenced GFP molecules in Hela and ES cells distinguished recombinant and nonrecombinant DNA solely on the basis of their methylation profile and indicated that HR superimposed novel methylation profiles on top of the old patterns. Chromatin immunoprecipitation and RNA analysis revealed that DNA methyl transferase 1 was bound specifically to HR GFP DNA and that methylation of the repaired segment contributed to the silencing of GFP expression. Taken together, our data support a mechanistic link between HR and DNA methylation and suggest that DNA methylation in eukaryotes marks homologous recombined segments.: Genomic DNA can be modified by cytosine methylation. This epigenetic modification is layered on the primary genetic information and can silence the affected gene. Epigenetic modification has been implicated in cancer and aging. To date, the primary cause and the mechanism leading to DNA methylation are not known. By using a sophisticated genetic system, we have induced a single break in the double helix of the genomes of mouse or human cells. This rupture was repaired by a very precise mechanism: the damaged chromosome pairs and retrieves genetic information from an undamaged and homologous DNA partner. This homology-directed repair was marked in half of the repaired molecules by de novo methylation of cytosines flanking the cut. As a direct consequence, the gene in these repaired molecules was silenced. In the remaining molecules, the recombinant DNA was undermethylated and expressed the reconstituted gene. Since homology-directed repair may duplicate or delete genetic information, epigenetic modification of repaired DNA represents a powerful evolutionary force. If the expression of the repaired gene is harmful, only cells inheriting the silenced copy will survive. Conversely, if the function of the repaired gene is beneficial, cells inheriting the under-methylated copy will have a selective advantage. '], 'title_display': 'DNA Damage, Homology-Directed Repair, and DNA Methylation', 'score': 6.1488004}, {'id': '10.1371/annotation/254cef67-ab0e-43f6-af62-8f7df7c3677c', 'journal': 'PLoS ONE', 'eissn': '1932-6203', 'publication_date': '2013-05-15T00:00:00Z', 'article_type': 'Correction', 'author_display': ['Sheng-Yu Wang', 'Alan Yueh-Luen Lee', 'Yi-Hua Lai', 'Jeremy J. W. Chen', 'Wen-Lin Wu', 'Jeu-Ming P. Yuann', 'Wang-Lin Su', 'Show-Mei Chuang', 'Ming-Hon Hou'], 'abstract': [''], 'title_display': 'Correction: Spermine Attenuates the Action of the DNA Intercalator, Actinomycin D, on DNA Binding and the Inhibition of Transcription and DNA Replication', 'score': 6.0857224}, {'id': '10.1371/journal.pone.0124444', 'journal': 'PLOS ONE', 'eissn': '1932-6203', 'publication_date': '2015-04-29T00:00:00Z', 'article_type': 'Research Article', 'author_display': ['Josef Štěpánek', 'Vladimír Kopecký Jr.', 'Pierre-Yves Turpin', 'Zhenlin Li', 'Bernard Alpert', 'Christian Zentz'], 'abstract': ['\\nThe transcriptional activity of the serum response factor (SRF) protein is triggered by its binding to a 10-base-pair DNA consensus sequence designated the CArG box, which is the core sequence of the serum response element (SRE). Sequence-specific recognition of the CArG box by a core domain of 100 amino acid residues of SRF (core-SRF) was asserted to depend almost exclusively on the intrinsic SRE conformation and on the degree of protein-induced SRE bending. Nevertheless, this paradigm was invalidated by a temperature-dependent Raman spectroscopy study of 20-mer oligonucleotides involved in bonding interactions with core-SRF that reproduced both wild type and mutated c-fos SREs. Indeed, the SRE moieties that are complexed with core-SRF exhibit permanent interconversion dynamics between bent and linear conformers. Thus, sequence-specific recognition of the CArG box by core-SRF cannot be explained only in terms of the three-dimensional structure of the SRE. A particular dynamic pairing process discriminates between the wild type and mutated complexes. Specific oscillations of the phosphate charge network of the SRE govern the recognition between both partners rather than an intrinsic set of conformations of the SRE.\\n'], 'title_display': 'DNA Electric Charge Oscillations Govern Protein–DNA Recognition', 'score': 5.985297}, {'id': '10.1371/journal.pone.0177147', 'journal': 'PLOS ONE', 'eissn': '1932-6203', 'publication_date': '2017-05-03T00:00:00Z', 'article_type': 'Research Article', 'author_display': ['Irina Bruck', 'Nalini Dhingra', 'Matthew P. Martinez', 'Daniel L. Kaplan'], 'abstract': ['\\nDpb11 is required for the initiation of DNA replication in budding yeast. We found that Dpb11 binds tightly to single-stranded DNA (ssDNA) or branched DNA structures, while its human homolog, TopBP1, binds tightly to branched-DNA structures. We also found that Dpb11 binds stably to CDK-phosphorylated RPA, the eukaryotic ssDNA binding protein, in the presence of branched DNA. A Dpb11 mutant specifically defective for DNA binding did not exhibit tight binding to RPA in the presence of DNA, suggesting that Dpb11-interaction with DNA may promote the recruitment of RPA to melted DNA. We then characterized a mutant of Dpb11 that is specifically defective in DNA binding in budding yeast cells. Expression of dpb11-m1,2,3,5,ΔC results in a substantial decrease in RPA recruitment to origins, suggesting that Dpb11 interaction with DNA may be required for RPA recruitment to origins. Expression of dpb11-m1,2,3,5,ΔC also results in diminished GINS interaction with Mcm2-7 during S phase, while Cdc45 interaction with Mcm2-7 is like wild-type. The reduced GINS interaction with Mcm2-7 may be an indirect consequence of diminished origin melting. We propose that the tight interaction between Dpb11, CDK-phosphorylated RPA, and branched-DNA may be required for the essential function of stabilizing melted origin DNA in vivo. We also propose an alternative model, wherein Dpb11-DNA interaction is required for some other function in DNA replication initiation, such as helicase activation.\\n'], 'title_display': 'Dpb11 may function with RPA and DNA to initiate DNA replication', 'score': 5.985297}, {'id': '10.1371/journal.pgen.1006605', 'journal': 'PLOS Genetics', 'eissn': '1553-7404', 'publication_date': '2017-02-10T00:00:00Z', 'article_type': 'Correction', 'author_display': ['Concetta Cuozzo', 'Antonio Porcellini', 'Tiziana Angrisano', 'Annalisa Morano', 'Bongyong Lee', 'Alba Di Pardo', 'Samantha Messina', 'Rodolfo Iuliano', 'Alfredo Fusco', 'Maria R. Santillo', 'Mark T. Muller', 'Lorenzo Chiariotti', 'Max E. Gottesman', 'Enrico V. Avvedimento'], 'abstract': [''], 'title_display': 'Correction: DNA Damage, Homology-Directed Repair, and DNA Methylation', 'score': 5.985297}, {'id': '10.1371/journal.pone.0180798', 'journal': 'PLOS ONE', 'eissn': '1932-6203', 'publication_date': '2017-07-12T00:00:00Z', 'article_type': 'Research Article', 'author_display': ['Lukas Nejdl', 'Jiri Kudr', 'Amitava Moulick', 'Dagmar Hegerova', 'Branislav Ruttkay-Nedecky', 'Jaromir Gumulec', 'Kristyna Cihalova', 'Kristyna Smerkova', 'Simona Dostalova', 'Sona Krizkova', 'Marie Novotna', 'Pavel Kopel', 'Vojtech Adam'], 'abstract': ['\\nSparsely tested group of platinum nanoparticles (PtNPs) may have a comparable effect as complex platinum compounds. The aim of this study was to observe the effect of PtNPs in in vitro amplification of DNA fragment of phage λ, on the bacterial cultures (Staphylococcus aureus), human foreskin fibroblasts and erythrocytes. In vitro synthesized PtNPs were characterized by dynamic light scattering (PtNPs size range 4.8–11.7 nm), zeta potential measurements (-15 mV at pH 7.4), X-ray fluorescence, UV/vis spectrophotometry and atomic absorption spectrometry. The PtNPs inhibited the DNA replication and affected the secondary structure of DNA at higher concentrations, which was confirmed by polymerase chain reaction, DNA sequencing and DNA denaturation experiments. Further, cisplatin (CisPt), as traditional chemotherapy agent, was used in all parallel experiments. Moreover, the encapsulation of PtNPs in liposomes (LipoPtNPs) caused an approximately 2.4x higher of DNA damage in comparison with CisPt, LipoCisPt and PtNPs. The encapsulation of PtNPs in liposomes also increased their antibacterial, cytostatic and cytotoxic effect, which was determined by the method of growth curves on S. aureus and HFF cells. In addition, both the bare and encapsulated PtNPs caused lower oxidative stress (determined by GSH/GSSG ratio) in the human erythrocytes compared to the bare and encapsulated CisPt. CisPt was used in all parallel experiments as traditional chemotherapy agent.\\n'], 'title_display': 'Platinum nanoparticles induce damage to DNA and inhibit DNA replication', 'score': 5.985297}]\n"
          ]
        }
      ]
    },
    {
      "cell_type": "markdown",
      "metadata": {
        "id": "BW5J8gk6JvEj"
      },
      "source": [
        "###Assignment"
      ]
    },
    {
      "cell_type": "code",
      "metadata": {
        "id": "-JAvQ2_fIYNV"
      },
      "source": [
        "response=requests.get(\"https://api.kanye.rest\")"
      ],
      "execution_count": null,
      "outputs": []
    },
    {
      "cell_type": "code",
      "metadata": {
        "id": "0Zplu7YNJ1I0"
      },
      "source": [
        "response.raise_for_status()"
      ],
      "execution_count": null,
      "outputs": []
    },
    {
      "cell_type": "code",
      "metadata": {
        "colab": {
          "base_uri": "https://localhost:8080/"
        },
        "id": "Q8ht9GDpJ3be",
        "outputId": "8b613727-9efd-44de-e0bc-006ac306fc3a"
      },
      "source": [
        "print(response.status_code)"
      ],
      "execution_count": null,
      "outputs": [
        {
          "output_type": "stream",
          "name": "stdout",
          "text": [
            "200\n"
          ]
        }
      ]
    },
    {
      "cell_type": "code",
      "metadata": {
        "colab": {
          "base_uri": "https://localhost:8080/",
          "height": 36
        },
        "id": "fGCLntrsJ6IU",
        "outputId": "ae48c3b4-d1f1-4351-df45-39780af0e8f1"
      },
      "source": [
        "response.json()['quote']"
      ],
      "execution_count": null,
      "outputs": [
        {
          "output_type": "execute_result",
          "data": {
            "application/vnd.google.colaboratory.intrinsic+json": {
              "type": "string"
            },
            "text/plain": [
              "'I honestly need all my Royeres to be museum quality... if I see a fake Royere Ima have to Rick James your couch'"
            ]
          },
          "metadata": {},
          "execution_count": 249
        }
      ]
    },
    {
      "cell_type": "markdown",
      "metadata": {
        "id": "oD8nJFarKjv9"
      },
      "source": [
        "### API Parameter"
      ]
    },
    {
      "cell_type": "code",
      "metadata": {
        "id": "jA2gue78J-dq"
      },
      "source": [
        "My_lat=51.58\n",
        "My_lng=-0.12778\n",
        "\n",
        "parameters={\n",
        "    \"lat\":My_lat,\n",
        "    \"lng\":My_lng,\n",
        "    \"formatted\":0\n",
        "}\n",
        "res=requests.get(\" https://api.sunrise-sunset.org/json\",params=parameters)"
      ],
      "execution_count": null,
      "outputs": []
    },
    {
      "cell_type": "code",
      "metadata": {
        "colab": {
          "base_uri": "https://localhost:8080/"
        },
        "id": "aOakzrnKMrJG",
        "outputId": "dbbe3336-c380-4317-c779-cca993cb6bcd"
      },
      "source": [
        "print(res.status_code)"
      ],
      "execution_count": null,
      "outputs": [
        {
          "output_type": "stream",
          "name": "stdout",
          "text": [
            "200\n"
          ]
        }
      ]
    },
    {
      "cell_type": "code",
      "metadata": {
        "id": "l3OrKuQJMuoE"
      },
      "source": [
        "res.raise_for_status()"
      ],
      "execution_count": null,
      "outputs": []
    },
    {
      "cell_type": "code",
      "metadata": {
        "id": "TFFP-qetM0Dw"
      },
      "source": [
        "res=res.json()\n",
        "sunrise=res['results']['sunrise']\n",
        "sunrise=sunrise.split(\"T\")\n"
      ],
      "execution_count": null,
      "outputs": []
    },
    {
      "cell_type": "code",
      "metadata": {
        "colab": {
          "base_uri": "https://localhost:8080/"
        },
        "id": "hJZh2dSqNsUC",
        "outputId": "e2b47c24-cfa9-4731-8082-6214ddb8e06d"
      },
      "source": [
        "print(f\"sunrise {sunrise}\")"
      ],
      "execution_count": null,
      "outputs": [
        {
          "output_type": "stream",
          "name": "stdout",
          "text": [
            "sunrise ['2021-11-12', '07:12:15+00:00']\n"
          ]
        }
      ]
    },
    {
      "cell_type": "code",
      "metadata": {
        "colab": {
          "base_uri": "https://localhost:8080/"
        },
        "id": "uKiossHlODpv",
        "outputId": "e8677319-b771-4367-d12e-ed0ea59c8838"
      },
      "source": [
        "print(f\"sunset {res['results']['sunset']}\")"
      ],
      "execution_count": null,
      "outputs": [
        {
          "output_type": "stream",
          "name": "stdout",
          "text": [
            "sunset 2021-11-12T16:17:05+00:00\n"
          ]
        }
      ]
    },
    {
      "cell_type": "code",
      "metadata": {
        "colab": {
          "base_uri": "https://localhost:8080/"
        },
        "id": "vycUPFjHOu_r",
        "outputId": "8a7676a8-a042-4a38-dcf4-9e5e72bf0e70"
      },
      "source": [
        "time_now=dt.datetime.now()\n",
        "print(time_now)"
      ],
      "execution_count": null,
      "outputs": [
        {
          "output_type": "stream",
          "name": "stdout",
          "text": [
            "2021-11-12 08:29:00.214437\n"
          ]
        }
      ]
    },
    {
      "cell_type": "markdown",
      "metadata": {
        "id": "L_19q3uBUXCM"
      },
      "source": [
        "### Errors,Exceptions and JSON Data \n",
        "\n",
        "#### Errors and Exceptions\n",
        "        => Try\n",
        "        => Except\n",
        "        => Else\n",
        "        => Finally\n"
      ]
    },
    {
      "cell_type": "code",
      "metadata": {
        "id": "0JLTGE5aPHTw"
      },
      "source": [
        "try:\n",
        "  pass\n",
        "except:\n",
        "  pass\n",
        "else:\n",
        "  pass\n",
        "finally:\n",
        "  pass\n"
      ],
      "execution_count": null,
      "outputs": []
    },
    {
      "cell_type": "code",
      "metadata": {
        "colab": {
          "base_uri": "https://localhost:8080/",
          "height": 189
        },
        "id": "Zd-AtONrXh4B",
        "outputId": "e4640b23-88e7-4cbf-d50a-cabdbd5130bd"
      },
      "source": [
        "n=\"samraj\"\n",
        "print(m)"
      ],
      "execution_count": null,
      "outputs": [
        {
          "output_type": "error",
          "ename": "NameError",
          "evalue": "ignored",
          "traceback": [
            "\u001b[0;31m---------------------------------------------------------------------------\u001b[0m",
            "\u001b[0;31mNameError\u001b[0m                                 Traceback (most recent call last)",
            "\u001b[0;32m<ipython-input-323-9bb407a3f96c>\u001b[0m in \u001b[0;36m<module>\u001b[0;34m()\u001b[0m\n\u001b[1;32m      1\u001b[0m \u001b[0mn\u001b[0m\u001b[0;34m=\u001b[0m\u001b[0;34m\"samraj\"\u001b[0m\u001b[0;34m\u001b[0m\u001b[0;34m\u001b[0m\u001b[0m\n\u001b[0;32m----> 2\u001b[0;31m \u001b[0mprint\u001b[0m\u001b[0;34m(\u001b[0m\u001b[0mm\u001b[0m\u001b[0;34m)\u001b[0m\u001b[0;34m\u001b[0m\u001b[0;34m\u001b[0m\u001b[0m\n\u001b[0m",
            "\u001b[0;31mNameError\u001b[0m: name 'm' is not defined"
          ]
        }
      ]
    },
    {
      "cell_type": "code",
      "metadata": {
        "colab": {
          "base_uri": "https://localhost:8080/"
        },
        "id": "uVDIiOoDXDyT",
        "outputId": "3bb73c74-5182-4555-c8d3-eedf0c5e68c3"
      },
      "source": [
        "#try and except\n",
        "try:\n",
        "  n=\"samraj\"\n",
        "  print(m)\n",
        "except NameError:\n",
        "  print(\"you made some mistakes please check again\")"
      ],
      "execution_count": null,
      "outputs": [
        {
          "output_type": "stream",
          "name": "stdout",
          "text": [
            "you made some mistakes please check again\n"
          ]
        }
      ]
    },
    {
      "cell_type": "code",
      "metadata": {
        "colab": {
          "base_uri": "https://localhost:8080/",
          "height": 207
        },
        "id": "o4flolxaYb-6",
        "outputId": "7a3ec830-34ac-4209-e0da-30b21fa86975"
      },
      "source": [
        "with open(\"f1.txt\",\"r\") as file:\n",
        "  file=file.read()\n",
        "  print(file)"
      ],
      "execution_count": null,
      "outputs": [
        {
          "output_type": "error",
          "ename": "FileNotFoundError",
          "evalue": "ignored",
          "traceback": [
            "\u001b[0;31m---------------------------------------------------------------------------\u001b[0m",
            "\u001b[0;31mFileNotFoundError\u001b[0m                         Traceback (most recent call last)",
            "\u001b[0;32m<ipython-input-332-c2e5f4197114>\u001b[0m in \u001b[0;36m<module>\u001b[0;34m()\u001b[0m\n\u001b[0;32m----> 1\u001b[0;31m \u001b[0;32mwith\u001b[0m \u001b[0mopen\u001b[0m\u001b[0;34m(\u001b[0m\u001b[0;34m\"f1.txt\"\u001b[0m\u001b[0;34m,\u001b[0m\u001b[0;34m\"r\"\u001b[0m\u001b[0;34m)\u001b[0m \u001b[0;32mas\u001b[0m \u001b[0mfile\u001b[0m\u001b[0;34m:\u001b[0m\u001b[0;34m\u001b[0m\u001b[0;34m\u001b[0m\u001b[0m\n\u001b[0m\u001b[1;32m      2\u001b[0m   \u001b[0mfile\u001b[0m\u001b[0;34m=\u001b[0m\u001b[0mfile\u001b[0m\u001b[0;34m.\u001b[0m\u001b[0mread\u001b[0m\u001b[0;34m(\u001b[0m\u001b[0;34m)\u001b[0m\u001b[0;34m\u001b[0m\u001b[0;34m\u001b[0m\u001b[0m\n\u001b[1;32m      3\u001b[0m   \u001b[0mprint\u001b[0m\u001b[0;34m(\u001b[0m\u001b[0mfile\u001b[0m\u001b[0;34m)\u001b[0m\u001b[0;34m\u001b[0m\u001b[0;34m\u001b[0m\u001b[0m\n",
            "\u001b[0;31mFileNotFoundError\u001b[0m: [Errno 2] No such file or directory: 'f1.txt'"
          ]
        }
      ]
    },
    {
      "cell_type": "code",
      "metadata": {
        "colab": {
          "base_uri": "https://localhost:8080/"
        },
        "id": "DsMsBCQPXUfG",
        "outputId": "25edb651-e402-423b-dbf9-30762e2d9e9a"
      },
      "source": [
        "#try and exept with finally\n",
        "\n",
        "try:\n",
        "  with open(\"f1.txt\",\"r\") as file:\n",
        "    file=file.read()\n",
        "    print(file)\n",
        "  \n",
        "except FileNotFoundError:\n",
        "  print(\"file is missing check again\")\n",
        "\n",
        "finally:\n",
        "  print(\"Good Bye\")\n"
      ],
      "execution_count": null,
      "outputs": [
        {
          "output_type": "stream",
          "name": "stdout",
          "text": [
            "file is missing check again\n",
            "Good Bye\n"
          ]
        }
      ]
    },
    {
      "cell_type": "code",
      "metadata": {
        "colab": {
          "base_uri": "https://localhost:8080/"
        },
        "id": "3ip37cGGYIjg",
        "outputId": "7a81ef51-dbe9-42ef-c4cb-46f7fca1d243"
      },
      "source": [
        "#try exept else and finally\n",
        "\n",
        "try:\n",
        "  n=\"samraj\"\n",
        "  print(n)\n",
        "except NameError as name:\n",
        "  print(\"you made some mistakes please check again the\")\n",
        "else:\n",
        "  print(\"he is lives in kodaikanal\")\n",
        "\n",
        "finally:\n",
        "  print(\"Good Bye\")\n"
      ],
      "execution_count": null,
      "outputs": [
        {
          "output_type": "stream",
          "name": "stdout",
          "text": [
            "samraj\n",
            "he is lives in kodaikanal\n",
            "Good Bye\n"
          ]
        }
      ]
    },
    {
      "cell_type": "markdown",
      "metadata": {
        "id": "Cf0pRAtnZkq3"
      },
      "source": [
        "### raising own exception"
      ]
    },
    {
      "cell_type": "code",
      "metadata": {
        "colab": {
          "base_uri": "https://localhost:8080/",
          "height": 225
        },
        "id": "DtQWKaIBY9sn",
        "outputId": "de725de4-eae2-4404-95bc-27df6f1eb8fe"
      },
      "source": [
        "\n",
        "try:\n",
        "  name=\"arun\"\n",
        "  print(name)\n",
        "finally:\n",
        "  raise TypeError(\"made by user\")"
      ],
      "execution_count": null,
      "outputs": [
        {
          "output_type": "stream",
          "name": "stdout",
          "text": [
            "arun\n"
          ]
        },
        {
          "output_type": "error",
          "ename": "TypeError",
          "evalue": "ignored",
          "traceback": [
            "\u001b[0;31m---------------------------------------------------------------------------\u001b[0m",
            "\u001b[0;31mTypeError\u001b[0m                                 Traceback (most recent call last)",
            "\u001b[0;32m<ipython-input-347-5ed2243ffa16>\u001b[0m in \u001b[0;36m<module>\u001b[0;34m()\u001b[0m\n\u001b[1;32m      4\u001b[0m   \u001b[0mprint\u001b[0m\u001b[0;34m(\u001b[0m\u001b[0mname\u001b[0m\u001b[0;34m)\u001b[0m\u001b[0;34m\u001b[0m\u001b[0;34m\u001b[0m\u001b[0m\n\u001b[1;32m      5\u001b[0m \u001b[0;32mfinally\u001b[0m\u001b[0;34m:\u001b[0m\u001b[0;34m\u001b[0m\u001b[0;34m\u001b[0m\u001b[0m\n\u001b[0;32m----> 6\u001b[0;31m   \u001b[0;32mraise\u001b[0m \u001b[0mTypeError\u001b[0m\u001b[0;34m(\u001b[0m\u001b[0;34m\"made by user\"\u001b[0m\u001b[0;34m)\u001b[0m\u001b[0;34m\u001b[0m\u001b[0;34m\u001b[0m\u001b[0m\n\u001b[0m",
            "\u001b[0;31mTypeError\u001b[0m: made by user"
          ]
        }
      ]
    },
    {
      "cell_type": "markdown",
      "metadata": {
        "id": "R-ZTf8PabNFB"
      },
      "source": [
        "Exercise"
      ]
    },
    {
      "cell_type": "code",
      "metadata": {
        "colab": {
          "base_uri": "https://localhost:8080/"
        },
        "id": "F8ZAc6BjZ5yj",
        "outputId": "644e6426-be08-44e7-c652-88bdfc2fa18b"
      },
      "source": [
        "fruits = [\"Apple\", \"Pear\", \"Orange\"]\n",
        "\n",
        "#TODO: Catch the exception and make sure the code runs without crashing\n",
        "try:\n",
        "  def make_pie(index):\n",
        "      fruit = fruits[index]\n",
        "      print(fruit + \" pie\")\n",
        "\n",
        "\n",
        "  make_pie(4)\n",
        "except IndexError:\n",
        "  print(\"list is full sorry\")\n",
        "\n",
        "\n"
      ],
      "execution_count": null,
      "outputs": [
        {
          "output_type": "stream",
          "name": "stdout",
          "text": [
            "list is full sorry\n"
          ]
        }
      ]
    },
    {
      "cell_type": "markdown",
      "metadata": {
        "id": "YxOBMhXzdicz"
      },
      "source": [
        "###OOPS\n",
        "Polymorphism and abstraction\n",
        "\n",
        "####polymorphism:\n",
        "It refers to the use of a single type entity to represent different types in different scenarios."
      ]
    },
    {
      "cell_type": "code",
      "metadata": {
        "colab": {
          "base_uri": "https://localhost:8080/"
        },
        "id": "oFGPLjjBdolo",
        "outputId": "e77d09ba-54e8-47da-bd2e-b4d3e49c5521"
      },
      "source": [
        "class Animal:\n",
        "  def __init__(self,name,color):\n",
        "    self.name=name\n",
        "    self.color=color\n",
        "\n",
        "  def make(self):\n",
        "    print(f\"i am a {self.name} \")\n",
        "  def col(self):\n",
        "    print(self.color)\n",
        "\n",
        "class Animal2:\n",
        "  def __init__(self,name,color):\n",
        "    self.name=name\n",
        "    self.color=color\n",
        "\n",
        "  def make(self):\n",
        "    print(f\"i am a {self.name} \")\n",
        "  def col(self):\n",
        "    print(self.color)\n",
        "\n",
        "res1=Animal(\"cat\",'white')\n",
        "res2=Animal2('dog','black')\n",
        "\n",
        "for i in (res1,res2):\n",
        "  i.make()\n",
        "  i.col()"
      ],
      "execution_count": null,
      "outputs": [
        {
          "output_type": "stream",
          "name": "stdout",
          "text": [
            "i am a cat \n",
            "white\n",
            "i am a dog \n",
            "black\n"
          ]
        }
      ]
    },
    {
      "cell_type": "markdown",
      "metadata": {
        "id": "EiOvNG5qt1eO"
      },
      "source": [
        "### Abstraction\n",
        "\n",
        "Abstraction focuses on hiding the internal implementations of a process or method from the user"
      ]
    },
    {
      "cell_type": "code",
      "metadata": {
        "colab": {
          "base_uri": "https://localhost:8080/"
        },
        "id": "1Uz3drGCbRxv",
        "outputId": "07453aa8-90d8-4bfc-f7b4-0e6e528019b9"
      },
      "source": [
        "#abstraction\n",
        "\n",
        "from abc import ABC,abstractmethod\n",
        "\n",
        "class Absclass(ABC):\n",
        "  def print(self,x):\n",
        "    return x\n",
        "  def task(self):\n",
        "    print(\"Welcome to python\")\n",
        "\n",
        "class testclass(Absclass):\n",
        "  @abstractmethod\n",
        "  def sam(self):\n",
        "    print(\"this is oops concept\")\n",
        "\n",
        "class example(Absclass):\n",
        "  def sam(self):\n",
        "    print(\"good evening\")\n",
        "\n",
        "\n",
        "res=example()\n",
        "res.sam()"
      ],
      "execution_count": null,
      "outputs": [
        {
          "output_type": "stream",
          "name": "stdout",
          "text": [
            "good evening\n"
          ]
        }
      ]
    },
    {
      "cell_type": "markdown",
      "metadata": {
        "id": "7PnwB1J6ul23"
      },
      "source": [
        "### List Comprehension"
      ]
    },
    {
      "cell_type": "markdown",
      "metadata": {
        "id": "Sibsgo_6wsJH"
      },
      "source": [
        "####Examples"
      ]
    },
    {
      "cell_type": "markdown",
      "metadata": {
        "id": "dIWqQSwqxlWf"
      },
      "source": [
        ""
      ]
    },
    {
      "cell_type": "code",
      "metadata": {
        "id": "hsWCvF2On9ud",
        "colab": {
          "base_uri": "https://localhost:8080/"
        },
        "outputId": "06d15ce2-32f4-499f-9427-ab73347972bd"
      },
      "source": [
        "x=[i for i in range(0,10)]\n",
        "print(x)"
      ],
      "execution_count": null,
      "outputs": [
        {
          "output_type": "stream",
          "name": "stdout",
          "text": [
            "[0, 1, 2, 3, 4, 5, 6, 7, 8, 9]\n"
          ]
        }
      ]
    },
    {
      "cell_type": "code",
      "metadata": {
        "id": "h8YfCtSCwrQw",
        "colab": {
          "base_uri": "https://localhost:8080/"
        },
        "outputId": "b4eb1069-ece9-4861-e0bf-6dfd6e851164"
      },
      "source": [
        "n=[12,3,4,5,2,1,2,4,2]\n",
        "res=[i for i in n if i>0]\n",
        "print(f\"the result is {res}\")"
      ],
      "execution_count": 435,
      "outputs": [
        {
          "output_type": "stream",
          "name": "stdout",
          "text": [
            "the result is [12, 3, 4, 5, 2, 1, 2, 4, 2]\n"
          ]
        }
      ]
    },
    {
      "cell_type": "code",
      "metadata": {
        "colab": {
          "base_uri": "https://localhost:8080/"
        },
        "id": "eI1iwJnzxJtj",
        "outputId": "26975ef3-a1b4-4a81-8ca1-b0f56a4fc91b"
      },
      "source": [
        "n=n=[12,3,4,5,2,1,2,4,2]\n",
        "output=[i**2 for i in n ]\n",
        "print(f\"the result is {output}\")"
      ],
      "execution_count": 436,
      "outputs": [
        {
          "output_type": "stream",
          "name": "stdout",
          "text": [
            "the result is [144, 9, 16, 25, 4, 1, 4, 16, 4]\n"
          ]
        }
      ]
    },
    {
      "cell_type": "code",
      "metadata": {
        "colab": {
          "base_uri": "https://localhost:8080/"
        },
        "id": "3QssYP6lxi-9",
        "outputId": "305ed5a0-b788-42c0-ca3d-9b0a81fc62f0"
      },
      "source": [
        "n=[12,3,4,5,2,1,2,4,2]\n",
        "res=[True if i>0 else False for i in n ]\n",
        "print(f\"the result is: \\n{res}\")"
      ],
      "execution_count": 440,
      "outputs": [
        {
          "output_type": "stream",
          "name": "stdout",
          "text": [
            "the result is: \n",
            "[True, True, True, True, True, True, True, True, True]\n"
          ]
        }
      ]
    },
    {
      "cell_type": "code",
      "metadata": {
        "id": "AWgM95ewy4If"
      },
      "source": [
        ""
      ],
      "execution_count": null,
      "outputs": []
    }
  ]
}